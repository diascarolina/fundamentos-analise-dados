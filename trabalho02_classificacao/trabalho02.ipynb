{
 "cells": [
  {
   "cell_type": "code",
   "execution_count": 1,
   "id": "5a5c16ac-5192-41b9-8305-163f1929941c",
   "metadata": {},
   "outputs": [],
   "source": [
    "import pandas as pd\n",
    "import numpy as np\n",
    "\n",
    "import matplotlib.pyplot as plt\n",
    "\n",
    "from sklearn.neighbors import KNeighborsClassifier\n",
    "from sklearn.metrics import accuracy_score\n",
    "from sklearn.model_selection import train_test_split"
   ]
  },
  {
   "cell_type": "code",
   "execution_count": 2,
   "id": "50eca5a3-2fed-4005-a1d2-8b4c61201c80",
   "metadata": {},
   "outputs": [
    {
     "data": {
      "text/html": [
       "<div>\n",
       "<style scoped>\n",
       "    .dataframe tbody tr th:only-of-type {\n",
       "        vertical-align: middle;\n",
       "    }\n",
       "\n",
       "    .dataframe tbody tr th {\n",
       "        vertical-align: top;\n",
       "    }\n",
       "\n",
       "    .dataframe thead th {\n",
       "        text-align: right;\n",
       "    }\n",
       "</style>\n",
       "<table border=\"1\" class=\"dataframe\">\n",
       "  <thead>\n",
       "    <tr style=\"text-align: right;\">\n",
       "      <th></th>\n",
       "      <th>arquivo</th>\n",
       "      <th>classe</th>\n",
       "      <th>0</th>\n",
       "      <th>1</th>\n",
       "      <th>2</th>\n",
       "      <th>3</th>\n",
       "      <th>4</th>\n",
       "      <th>5</th>\n",
       "      <th>6</th>\n",
       "      <th>7</th>\n",
       "      <th>...</th>\n",
       "      <th>1014</th>\n",
       "      <th>1015</th>\n",
       "      <th>1016</th>\n",
       "      <th>1017</th>\n",
       "      <th>1018</th>\n",
       "      <th>1019</th>\n",
       "      <th>1020</th>\n",
       "      <th>1021</th>\n",
       "      <th>1022</th>\n",
       "      <th>1023</th>\n",
       "    </tr>\n",
       "  </thead>\n",
       "  <tbody>\n",
       "    <tr>\n",
       "      <th>0</th>\n",
       "      <td>16679_1.jpg</td>\n",
       "      <td>1</td>\n",
       "      <td>170.0</td>\n",
       "      <td>174.0</td>\n",
       "      <td>177.0</td>\n",
       "      <td>172.0</td>\n",
       "      <td>167.0</td>\n",
       "      <td>161.0</td>\n",
       "      <td>156.0</td>\n",
       "      <td>161.0</td>\n",
       "      <td>...</td>\n",
       "      <td>176.0</td>\n",
       "      <td>188.0</td>\n",
       "      <td>168.0</td>\n",
       "      <td>96.0</td>\n",
       "      <td>67.0</td>\n",
       "      <td>77.0</td>\n",
       "      <td>136.0</td>\n",
       "      <td>166.0</td>\n",
       "      <td>175.0</td>\n",
       "      <td>171.0</td>\n",
       "    </tr>\n",
       "    <tr>\n",
       "      <th>1</th>\n",
       "      <td>04354.jpg</td>\n",
       "      <td>1</td>\n",
       "      <td>183.0</td>\n",
       "      <td>186.0</td>\n",
       "      <td>191.0</td>\n",
       "      <td>187.0</td>\n",
       "      <td>178.0</td>\n",
       "      <td>179.0</td>\n",
       "      <td>182.0</td>\n",
       "      <td>181.0</td>\n",
       "      <td>...</td>\n",
       "      <td>186.0</td>\n",
       "      <td>183.0</td>\n",
       "      <td>181.0</td>\n",
       "      <td>182.0</td>\n",
       "      <td>183.0</td>\n",
       "      <td>184.0</td>\n",
       "      <td>184.0</td>\n",
       "      <td>185.0</td>\n",
       "      <td>182.0</td>\n",
       "      <td>181.0</td>\n",
       "    </tr>\n",
       "    <tr>\n",
       "      <th>2</th>\n",
       "      <td>02725.jpg</td>\n",
       "      <td>1</td>\n",
       "      <td>158.0</td>\n",
       "      <td>158.0</td>\n",
       "      <td>160.0</td>\n",
       "      <td>149.0</td>\n",
       "      <td>149.0</td>\n",
       "      <td>157.0</td>\n",
       "      <td>155.0</td>\n",
       "      <td>150.0</td>\n",
       "      <td>...</td>\n",
       "      <td>185.0</td>\n",
       "      <td>184.0</td>\n",
       "      <td>194.0</td>\n",
       "      <td>190.0</td>\n",
       "      <td>192.0</td>\n",
       "      <td>182.0</td>\n",
       "      <td>181.0</td>\n",
       "      <td>179.0</td>\n",
       "      <td>198.0</td>\n",
       "      <td>190.0</td>\n",
       "    </tr>\n",
       "    <tr>\n",
       "      <th>3</th>\n",
       "      <td>11369_1.jpg</td>\n",
       "      <td>1</td>\n",
       "      <td>187.0</td>\n",
       "      <td>187.0</td>\n",
       "      <td>190.0</td>\n",
       "      <td>192.0</td>\n",
       "      <td>196.0</td>\n",
       "      <td>195.0</td>\n",
       "      <td>201.0</td>\n",
       "      <td>216.0</td>\n",
       "      <td>...</td>\n",
       "      <td>193.0</td>\n",
       "      <td>188.0</td>\n",
       "      <td>194.0</td>\n",
       "      <td>196.0</td>\n",
       "      <td>187.0</td>\n",
       "      <td>191.0</td>\n",
       "      <td>190.0</td>\n",
       "      <td>190.0</td>\n",
       "      <td>188.0</td>\n",
       "      <td>190.0</td>\n",
       "    </tr>\n",
       "    <tr>\n",
       "      <th>4</th>\n",
       "      <td>19463.jpg</td>\n",
       "      <td>1</td>\n",
       "      <td>176.0</td>\n",
       "      <td>174.0</td>\n",
       "      <td>174.0</td>\n",
       "      <td>162.0</td>\n",
       "      <td>71.0</td>\n",
       "      <td>166.0</td>\n",
       "      <td>206.0</td>\n",
       "      <td>170.0</td>\n",
       "      <td>...</td>\n",
       "      <td>183.0</td>\n",
       "      <td>182.0</td>\n",
       "      <td>176.0</td>\n",
       "      <td>171.0</td>\n",
       "      <td>184.0</td>\n",
       "      <td>176.0</td>\n",
       "      <td>179.0</td>\n",
       "      <td>185.0</td>\n",
       "      <td>174.0</td>\n",
       "      <td>190.0</td>\n",
       "    </tr>\n",
       "  </tbody>\n",
       "</table>\n",
       "<p>5 rows × 1026 columns</p>\n",
       "</div>"
      ],
      "text/plain": [
       "       arquivo  classe      0      1      2      3      4      5      6  \\\n",
       "0  16679_1.jpg       1  170.0  174.0  177.0  172.0  167.0  161.0  156.0   \n",
       "1    04354.jpg       1  183.0  186.0  191.0  187.0  178.0  179.0  182.0   \n",
       "2    02725.jpg       1  158.0  158.0  160.0  149.0  149.0  157.0  155.0   \n",
       "3  11369_1.jpg       1  187.0  187.0  190.0  192.0  196.0  195.0  201.0   \n",
       "4    19463.jpg       1  176.0  174.0  174.0  162.0   71.0  166.0  206.0   \n",
       "\n",
       "       7  ...   1014   1015   1016   1017   1018   1019   1020   1021   1022  \\\n",
       "0  161.0  ...  176.0  188.0  168.0   96.0   67.0   77.0  136.0  166.0  175.0   \n",
       "1  181.0  ...  186.0  183.0  181.0  182.0  183.0  184.0  184.0  185.0  182.0   \n",
       "2  150.0  ...  185.0  184.0  194.0  190.0  192.0  182.0  181.0  179.0  198.0   \n",
       "3  216.0  ...  193.0  188.0  194.0  196.0  187.0  191.0  190.0  190.0  188.0   \n",
       "4  170.0  ...  183.0  182.0  176.0  171.0  184.0  176.0  179.0  185.0  174.0   \n",
       "\n",
       "    1023  \n",
       "0  171.0  \n",
       "1  181.0  \n",
       "2  190.0  \n",
       "3  190.0  \n",
       "4  190.0  \n",
       "\n",
       "[5 rows x 1026 columns]"
      ]
     },
     "execution_count": 2,
     "metadata": {},
     "output_type": "execute_result"
    }
   ],
   "source": [
    "dados = pd.read_parquet(\"df_total.parquet\")\n",
    "dados.head()"
   ]
  },
  {
   "cell_type": "code",
   "execution_count": 3,
   "id": "576b5d55-2e74-4f1c-b6dc-ac92553f682f",
   "metadata": {},
   "outputs": [
    {
     "data": {
      "text/html": [
       "<div>\n",
       "<style scoped>\n",
       "    .dataframe tbody tr th:only-of-type {\n",
       "        vertical-align: middle;\n",
       "    }\n",
       "\n",
       "    .dataframe tbody tr th {\n",
       "        vertical-align: top;\n",
       "    }\n",
       "\n",
       "    .dataframe thead th {\n",
       "        text-align: right;\n",
       "    }\n",
       "</style>\n",
       "<table border=\"1\" class=\"dataframe\">\n",
       "  <thead>\n",
       "    <tr style=\"text-align: right;\">\n",
       "      <th></th>\n",
       "      <th>arquivo</th>\n",
       "      <th>classe</th>\n",
       "      <th>0</th>\n",
       "      <th>1</th>\n",
       "      <th>2</th>\n",
       "      <th>3</th>\n",
       "      <th>4</th>\n",
       "      <th>5</th>\n",
       "      <th>6</th>\n",
       "      <th>7</th>\n",
       "      <th>...</th>\n",
       "      <th>1014</th>\n",
       "      <th>1015</th>\n",
       "      <th>1016</th>\n",
       "      <th>1017</th>\n",
       "      <th>1018</th>\n",
       "      <th>1019</th>\n",
       "      <th>1020</th>\n",
       "      <th>1021</th>\n",
       "      <th>1022</th>\n",
       "      <th>1023</th>\n",
       "    </tr>\n",
       "  </thead>\n",
       "  <tbody>\n",
       "    <tr>\n",
       "      <th>34748</th>\n",
       "      <td>12000.jpg</td>\n",
       "      <td>0</td>\n",
       "      <td>127.0</td>\n",
       "      <td>165.0</td>\n",
       "      <td>168.0</td>\n",
       "      <td>171.0</td>\n",
       "      <td>166.0</td>\n",
       "      <td>162.0</td>\n",
       "      <td>163.0</td>\n",
       "      <td>168.0</td>\n",
       "      <td>...</td>\n",
       "      <td>184.0</td>\n",
       "      <td>188.0</td>\n",
       "      <td>179.0</td>\n",
       "      <td>191.0</td>\n",
       "      <td>191.0</td>\n",
       "      <td>188.0</td>\n",
       "      <td>190.0</td>\n",
       "      <td>187.0</td>\n",
       "      <td>185.0</td>\n",
       "      <td>187.0</td>\n",
       "    </tr>\n",
       "    <tr>\n",
       "      <th>22076</th>\n",
       "      <td>08626.jpg</td>\n",
       "      <td>0</td>\n",
       "      <td>221.0</td>\n",
       "      <td>220.0</td>\n",
       "      <td>222.0</td>\n",
       "      <td>223.0</td>\n",
       "      <td>222.0</td>\n",
       "      <td>221.0</td>\n",
       "      <td>221.0</td>\n",
       "      <td>221.0</td>\n",
       "      <td>...</td>\n",
       "      <td>220.0</td>\n",
       "      <td>221.0</td>\n",
       "      <td>222.0</td>\n",
       "      <td>219.0</td>\n",
       "      <td>221.0</td>\n",
       "      <td>223.0</td>\n",
       "      <td>220.0</td>\n",
       "      <td>220.0</td>\n",
       "      <td>217.0</td>\n",
       "      <td>217.0</td>\n",
       "    </tr>\n",
       "    <tr>\n",
       "      <th>28374</th>\n",
       "      <td>17760.jpg</td>\n",
       "      <td>0</td>\n",
       "      <td>159.0</td>\n",
       "      <td>172.0</td>\n",
       "      <td>174.0</td>\n",
       "      <td>173.0</td>\n",
       "      <td>170.0</td>\n",
       "      <td>175.0</td>\n",
       "      <td>172.0</td>\n",
       "      <td>172.0</td>\n",
       "      <td>...</td>\n",
       "      <td>168.0</td>\n",
       "      <td>175.0</td>\n",
       "      <td>174.0</td>\n",
       "      <td>170.0</td>\n",
       "      <td>166.0</td>\n",
       "      <td>167.0</td>\n",
       "      <td>173.0</td>\n",
       "      <td>173.0</td>\n",
       "      <td>173.0</td>\n",
       "      <td>159.0</td>\n",
       "    </tr>\n",
       "    <tr>\n",
       "      <th>28088</th>\n",
       "      <td>02185.jpg</td>\n",
       "      <td>0</td>\n",
       "      <td>192.0</td>\n",
       "      <td>192.0</td>\n",
       "      <td>190.0</td>\n",
       "      <td>187.0</td>\n",
       "      <td>189.0</td>\n",
       "      <td>187.0</td>\n",
       "      <td>189.0</td>\n",
       "      <td>189.0</td>\n",
       "      <td>...</td>\n",
       "      <td>184.0</td>\n",
       "      <td>185.0</td>\n",
       "      <td>185.0</td>\n",
       "      <td>187.0</td>\n",
       "      <td>187.0</td>\n",
       "      <td>188.0</td>\n",
       "      <td>186.0</td>\n",
       "      <td>184.0</td>\n",
       "      <td>185.0</td>\n",
       "      <td>184.0</td>\n",
       "    </tr>\n",
       "    <tr>\n",
       "      <th>20183</th>\n",
       "      <td>12720.jpg</td>\n",
       "      <td>0</td>\n",
       "      <td>179.0</td>\n",
       "      <td>182.0</td>\n",
       "      <td>181.0</td>\n",
       "      <td>184.0</td>\n",
       "      <td>176.0</td>\n",
       "      <td>175.0</td>\n",
       "      <td>177.0</td>\n",
       "      <td>170.0</td>\n",
       "      <td>...</td>\n",
       "      <td>183.0</td>\n",
       "      <td>184.0</td>\n",
       "      <td>180.0</td>\n",
       "      <td>183.0</td>\n",
       "      <td>187.0</td>\n",
       "      <td>184.0</td>\n",
       "      <td>183.0</td>\n",
       "      <td>180.0</td>\n",
       "      <td>184.0</td>\n",
       "      <td>188.0</td>\n",
       "    </tr>\n",
       "  </tbody>\n",
       "</table>\n",
       "<p>5 rows × 1026 columns</p>\n",
       "</div>"
      ],
      "text/plain": [
       "         arquivo  classe      0      1      2      3      4      5      6  \\\n",
       "34748  12000.jpg       0  127.0  165.0  168.0  171.0  166.0  162.0  163.0   \n",
       "22076  08626.jpg       0  221.0  220.0  222.0  223.0  222.0  221.0  221.0   \n",
       "28374  17760.jpg       0  159.0  172.0  174.0  173.0  170.0  175.0  172.0   \n",
       "28088  02185.jpg       0  192.0  192.0  190.0  187.0  189.0  187.0  189.0   \n",
       "20183  12720.jpg       0  179.0  182.0  181.0  184.0  176.0  175.0  177.0   \n",
       "\n",
       "           7  ...   1014   1015   1016   1017   1018   1019   1020   1021  \\\n",
       "34748  168.0  ...  184.0  188.0  179.0  191.0  191.0  188.0  190.0  187.0   \n",
       "22076  221.0  ...  220.0  221.0  222.0  219.0  221.0  223.0  220.0  220.0   \n",
       "28374  172.0  ...  168.0  175.0  174.0  170.0  166.0  167.0  173.0  173.0   \n",
       "28088  189.0  ...  184.0  185.0  185.0  187.0  187.0  188.0  186.0  184.0   \n",
       "20183  170.0  ...  183.0  184.0  180.0  183.0  187.0  184.0  183.0  180.0   \n",
       "\n",
       "        1022   1023  \n",
       "34748  185.0  187.0  \n",
       "22076  217.0  217.0  \n",
       "28374  173.0  159.0  \n",
       "28088  185.0  184.0  \n",
       "20183  184.0  188.0  \n",
       "\n",
       "[5 rows x 1026 columns]"
      ]
     },
     "execution_count": 3,
     "metadata": {},
     "output_type": "execute_result"
    }
   ],
   "source": [
    "dados.sample(frac=1).head()"
   ]
  },
  {
   "cell_type": "code",
   "execution_count": 4,
   "id": "750d7809-5f85-4fa3-baab-98e46e6592e6",
   "metadata": {},
   "outputs": [],
   "source": [
    "X = dados.drop(['arquivo', 'classe'], axis=1)\n",
    "y = dados['classe']\n",
    "\n",
    "X_train, X_test, y_train, y_test = train_test_split(X,\n",
    "                                                    y,\n",
    "                                                    test_size=0.3,\n",
    "                                                    random_state=12)"
   ]
  },
  {
   "cell_type": "code",
   "execution_count": 5,
   "id": "a52c1f74-c4a0-474e-bbbc-3c0d53113354",
   "metadata": {},
   "outputs": [
    {
     "data": {
      "text/plain": [
       "(28000, 1024)"
      ]
     },
     "execution_count": 5,
     "metadata": {},
     "output_type": "execute_result"
    }
   ],
   "source": [
    "X_train.shape"
   ]
  },
  {
   "cell_type": "code",
   "execution_count": 6,
   "id": "d88a0495-9788-46a4-bed0-7f3a5cd17578",
   "metadata": {},
   "outputs": [
    {
     "data": {
      "text/plain": [
       "(12000, 1024)"
      ]
     },
     "execution_count": 6,
     "metadata": {},
     "output_type": "execute_result"
    }
   ],
   "source": [
    "X_test.shape"
   ]
  },
  {
   "cell_type": "code",
   "execution_count": 7,
   "id": "96e6f3a1-570f-469d-bfb4-d282870b4745",
   "metadata": {},
   "outputs": [],
   "source": [
    "X_train = X_train.to_numpy()\n",
    "X_test = X_test.to_numpy()\n",
    "y_train = y_train.to_numpy()\n",
    "y_test = y_test.to_numpy()"
   ]
  },
  {
   "cell_type": "code",
   "execution_count": 8,
   "id": "1b7d0e9a-c563-4251-9d06-4ea1d36884bd",
   "metadata": {},
   "outputs": [],
   "source": [
    "media_treino = X_train.mean(axis=0)\n",
    "X_train_center = X_train - media_treino"
   ]
  },
  {
   "cell_type": "code",
   "execution_count": 9,
   "id": "3b039606-cd2c-4771-af02-a2fbe6980ef8",
   "metadata": {},
   "outputs": [],
   "source": [
    "media_teste = X_test.mean(axis=0)\n",
    "X_teste_center = media_treino - media_teste"
   ]
  },
  {
   "cell_type": "code",
   "execution_count": 10,
   "id": "90f83c4b-4dc5-46a9-836b-ad59750aa1b9",
   "metadata": {},
   "outputs": [],
   "source": [
    "cov_treino = np.cov(X_train, rowvar=False)"
   ]
  },
  {
   "cell_type": "code",
   "execution_count": 11,
   "id": "0588839d-79e1-48fb-a6e3-3fbf18b64de4",
   "metadata": {},
   "outputs": [],
   "source": [
    "autovalores_cov_treino, autovetores_cov_treino = np.linalg.eigh(cov_treino)"
   ]
  },
  {
   "cell_type": "code",
   "execution_count": 12,
   "id": "38b079d6-1550-4974-9166-d04da5d1743c",
   "metadata": {},
   "outputs": [
    {
     "data": {
      "text/plain": [
       "array([3.09989651e+00, 3.35688301e+00, 3.51271079e+00, ...,\n",
       "       3.56232333e+04, 5.25382714e+04, 5.41401981e+05])"
      ]
     },
     "execution_count": 12,
     "metadata": {},
     "output_type": "execute_result"
    }
   ],
   "source": [
    "autovalores_cov_treino"
   ]
  },
  {
   "cell_type": "markdown",
   "id": "08323fa7-e0d2-4d54-9448-a26c594ec661",
   "metadata": {},
   "source": [
    "Os autovalores já vem em ordem crescente, então basta inverter os arrays."
   ]
  },
  {
   "cell_type": "code",
   "execution_count": 13,
   "id": "367de376-04e8-4165-8d28-79f41f70a17c",
   "metadata": {},
   "outputs": [],
   "source": [
    "autovalores_cov_treino = autovalores_cov_treino[::-1]\n",
    "autovetores_cov_treino = autovetores_cov_treino[::-1]"
   ]
  },
  {
   "cell_type": "code",
   "execution_count": 14,
   "id": "e0e3410e-a69a-428d-b147-841002c0eac8",
   "metadata": {},
   "outputs": [
    {
     "data": {
      "image/png": "[encoded data removed]",
      "text/plain": [
       "<Figure size 432x288 with 1 Axes>"
      ]
     },
     "metadata": {
      "needs_background": "light"
     },
     "output_type": "display_data"
    }
   ],
   "source": [
    "soma_autovalores = sum(autovalores_cov_treino)\n",
    "var_exp = [(i/soma_autovalores) for i in autovalores_cov_treino]\n",
    "cum_sum_exp = np.cumsum(var_exp)\n",
    "\n",
    "plt.step(range(0, len(cum_sum_exp)), cum_sum_exp, where='mid')\n",
    "plt.ylabel('Variabilidade Acumulada')\n",
    "plt.xlabel('Principal component index (r)')\n",
    "plt.tight_layout()\n",
    "plt.show()"
   ]
  },
  {
   "cell_type": "code",
   "execution_count": 15,
   "id": "bd8a7333-a27e-44fa-a6d5-9297810629af",
   "metadata": {},
   "outputs": [
    {
     "data": {
      "image/png": "[encoded data removed]",
      "text/plain": [
       "<Figure size 432x288 with 1 Axes>"
      ]
     },
     "metadata": {
      "needs_background": "light"
     },
     "output_type": "display_data"
    }
   ],
   "source": [
    "plt.step(range(0, len(cum_sum_exp)), cum_sum_exp, where='mid')\n",
    "plt.ylabel('Variabilidade Acumulada')\n",
    "plt.xlabel('Principal component index (r)')\n",
    "plt.axis([70, 500, 0.8, 1.0])\n",
    "\n",
    "r = 185\n",
    "\n",
    "plt.vlines(x=r, ymin=0.8, ymax=cum_sum_exp[r], colors='r',linestyles='dashed')\n",
    "plt.hlines(y=cum_sum_exp[r], xmin=70, xmax=r, colors='k',linestyles='dashed')\n",
    "\n",
    "plt.tight_layout()\n",
    "plt.show()"
   ]
  },
  {
   "cell_type": "code",
   "execution_count": 16,
   "id": "ef9bf455-f499-47c1-a0be-e9bfd770b10d",
   "metadata": {},
   "outputs": [
    {
     "data": {
      "text/plain": [
       "0.95"
      ]
     },
     "execution_count": 16,
     "metadata": {},
     "output_type": "execute_result"
    }
   ],
   "source": [
    "round(cum_sum_exp[r], 2)"
   ]
  },
  {
   "cell_type": "code",
   "execution_count": 17,
   "id": "5936074d-6368-4e3b-86db-2c3383888501",
   "metadata": {},
   "outputs": [],
   "source": [
    "r = 185"
   ]
  },
  {
   "cell_type": "code",
   "execution_count": 18,
   "id": "358c6e27-19c2-42fb-8ff0-2f0167d6ba46",
   "metadata": {},
   "outputs": [
    {
     "data": {
      "text/plain": [
       "(1024, 1024)"
      ]
     },
     "execution_count": 18,
     "metadata": {},
     "output_type": "execute_result"
    }
   ],
   "source": [
    "autovetores_cov_treino.shape"
   ]
  },
  {
   "cell_type": "code",
   "execution_count": 19,
   "id": "cf636d17-d295-4a2c-a7d1-ef5930c84f6b",
   "metadata": {},
   "outputs": [],
   "source": [
    "Q_r = autovetores_cov_treino[:, :r]"
   ]
  },
  {
   "cell_type": "code",
   "execution_count": 20,
   "id": "9dbe0744-06b6-4423-9ae6-5b1ca7670c5d",
   "metadata": {},
   "outputs": [],
   "source": [
    "Z_train = np.matmul(X_train, Q_r)"
   ]
  },
  {
   "cell_type": "code",
   "execution_count": 21,
   "id": "35cc9115-99a5-4a83-851e-77c66bac01ca",
   "metadata": {},
   "outputs": [],
   "source": [
    "Z_test = np.matmul(X_test, Q_r)"
   ]
  },
  {
   "cell_type": "code",
   "execution_count": 22,
   "id": "ddb751ee-9c74-4ede-b637-cf391a4fac36",
   "metadata": {},
   "outputs": [
    {
     "data": {
      "text/plain": [
       "(28000, 185)"
      ]
     },
     "execution_count": 22,
     "metadata": {},
     "output_type": "execute_result"
    }
   ],
   "source": [
    "Z_train.shape"
   ]
  },
  {
   "cell_type": "code",
   "execution_count": 23,
   "id": "efa69570-3a72-4bb4-8cfa-7e189b5c689c",
   "metadata": {},
   "outputs": [
    {
     "name": "stdout",
     "output_type": "stream",
     "text": [
      "[0 0 1 ... 0 0 0]\n"
     ]
    }
   ],
   "source": [
    "model = KNeighborsClassifier(n_neighbors=1)\n",
    "model.fit(Z_train, y_train)\n",
    "y_pred = model.predict(Z_test)\n",
    "print(y_pred)"
   ]
  },
  {
   "cell_type": "code",
   "execution_count": 24,
   "id": "799c4740-f693-4a3a-86d9-ec13c5290588",
   "metadata": {},
   "outputs": [
    {
     "data": {
      "text/plain": [
       "0.71675"
      ]
     },
     "execution_count": 24,
     "metadata": {},
     "output_type": "execute_result"
    }
   ],
   "source": [
    "accuracy_score(y_test, y_pred)"
   ]
  },
  {
   "cell_type": "code",
   "execution_count": 25,
   "id": "6e04bee7-4963-4d7d-aac2-fcdef906c008",
   "metadata": {},
   "outputs": [
    {
     "data": {
      "text/plain": [
       "dtype('float64')"
      ]
     },
     "execution_count": 25,
     "metadata": {},
     "output_type": "execute_result"
    }
   ],
   "source": [
    "X_train.dtype"
   ]
  },
  {
   "cell_type": "code",
   "execution_count": 26,
   "id": "921eb354-5890-4645-a43f-fb2bb0f2c451",
   "metadata": {},
   "outputs": [
    {
     "data": {
      "text/plain": [
       "array([[209., 210., 206., ..., 222., 220., 221.],\n",
       "       [196., 195., 189., ..., 183., 185., 184.],\n",
       "       [168., 170., 176., ..., 145., 144., 155.],\n",
       "       ...,\n",
       "       [ 63., 106., 171., ..., 145., 177., 178.],\n",
       "       [191., 191., 194., ..., 191., 192., 191.],\n",
       "       [200., 195., 196., ..., 182., 154., 157.]], dtype=float32)"
      ]
     },
     "execution_count": 26,
     "metadata": {},
     "output_type": "execute_result"
    }
   ],
   "source": [
    "X_train.astype(np.float32)"
   ]
  },
  {
   "cell_type": "code",
   "execution_count": 27,
   "id": "1fdf2e2d-0116-45d7-bfa3-dc92e4fe81a7",
   "metadata": {},
   "outputs": [
    {
     "data": {
      "text/plain": [
       "(28000, 1024)"
      ]
     },
     "execution_count": 27,
     "metadata": {},
     "output_type": "execute_result"
    }
   ],
   "source": [
    "X_train.shape"
   ]
  },
  {
   "cell_type": "code",
   "execution_count": 28,
   "id": "292c9e11-a485-4da7-b509-e5e681c0a741",
   "metadata": {},
   "outputs": [
    {
     "data": {
      "text/plain": [
       "(1024, 185)"
      ]
     },
     "execution_count": 28,
     "metadata": {},
     "output_type": "execute_result"
    }
   ],
   "source": [
    "Q_r.shape"
   ]
  },
  {
   "cell_type": "code",
   "execution_count": 29,
   "id": "076c353b-dcf7-4c2b-8156-9a31cb5739c3",
   "metadata": {},
   "outputs": [],
   "source": [
    "# comentada para não rodar novamente\n",
    "# valores foram salvos em um txt\n",
    "\n",
    "accuracy = []\n",
    "\n",
    "import time\n",
    "start = time.time()\n",
    "\n",
    "X_train = X_train.astype(np.float32)\n",
    "\n",
    "for r in range(1024):\n",
    "    Q_r = autovetores_cov_treino[:, :r+1].astype(np.float32)\n",
    "    Z_train = np.matmul(X_train, Q_r)\n",
    "    Z_test = np.matmul(X_test, Q_r)\n",
    "    model = KNeighborsClassifier(n_neighbors=1)\n",
    "    model.fit(Z_train, y_train)\n",
    "    y_pred = model.predict(Z_test)\n",
    "    accuracy.append(accuracy_score(y_test, y_pred))\n",
    "    print(r+1)\n",
    "    \n",
    "end = time.time()\n",
    "print(f'time: {end - start} seconds')"
   ]
  },
  {
   "cell_type": "markdown",
   "id": "41e5fba6-0141-441c-9ee4-54fa3422f913",
   "metadata": {},
   "source": [
    "time: 4953.278329133987 seconds"
   ]
  },
  {
   "cell_type": "code",
   "execution_count": 30,
   "id": "7a74b6fa-f0f1-4340-9d3f-1a5530085cbe",
   "metadata": {},
   "outputs": [
    {
     "data": {
      "text/plain": [
       "1.375910646981663"
      ]
     },
     "execution_count": 30,
     "metadata": {},
     "output_type": "execute_result"
    }
   ],
   "source": [
    "4953.278329133987 / 60 /60"
   ]
  },
  {
   "cell_type": "code",
   "execution_count": 32,
   "id": "35d6361f-f51c-4afd-a980-2b1b2f97bbab",
   "metadata": {},
   "outputs": [],
   "source": [
    "with open('accuracy.txt', 'w') as fp:\n",
    "    for item in accuracy:\n",
    "    fp.write(\"%s\\n\" % item)\n",
    "print('Terminado')"
   ]
  },
  {
   "cell_type": "code",
   "execution_count": 33,
   "id": "e42fc108-3631-43d9-903b-d1134cb2acd7",
   "metadata": {},
   "outputs": [
    {
     "data": {
      "text/plain": [
       "[]"
      ]
     },
     "execution_count": 33,
     "metadata": {},
     "output_type": "execute_result"
    }
   ],
   "source": [
    "accuracy_file = []\n",
    "\n",
    "with open('accuracy.txt', 'r') as fp:\n",
    "    for line in fp:\n",
    "        x = line[:-1]\n",
    "        accuracy_file.append(x)\n",
    "\n",
    "acc = [float(i) for i in accuracy_file]\n",
    "acc"
   ]
  },
  {
   "cell_type": "code",
   "execution_count": 34,
   "id": "5046ef41-b375-425e-8e84-6c803d60642b",
   "metadata": {},
   "outputs": [
    {
     "data": {
      "image/png": "[encoded data removed]",
      "text/plain": [
       "<Figure size 432x288 with 1 Axes>"
      ]
     },
     "metadata": {
      "needs_background": "light"
     },
     "output_type": "display_data"
    }
   ],
   "source": [
    "plt.plot(acc)\n",
    "plt.ylabel('Acurácia')\n",
    "plt.xlabel('Quantidade de Autovalores (r)')\n",
    "plt.tight_layout()\n",
    "plt.show()"
   ]
  },
  {
   "cell_type": "code",
   "execution_count": 35,
   "id": "938854d4-26aa-4a24-bbf3-582cf18528c3",
   "metadata": {},
   "outputs": [],
   "source": [
    "u, s, vh = np.linalg.svd(X_train, full_matrices=False)"
   ]
  },
  {
   "cell_type": "code",
   "execution_count": 36,
   "id": "f80f49e2-3a80-492d-878f-17b3a10aa5c0",
   "metadata": {},
   "outputs": [
    {
     "data": {
      "text/plain": [
       "((28000, 1024), (1024,), (1024, 1024))"
      ]
     },
     "execution_count": 36,
     "metadata": {},
     "output_type": "execute_result"
    }
   ],
   "source": [
    "u.shape, s.shape, vh.shape"
   ]
  },
  {
   "cell_type": "code",
   "execution_count": 37,
   "id": "e08b71a2-4263-4f41-8698-99dd8497a8b7",
   "metadata": {},
   "outputs": [
    {
     "data": {
      "text/plain": [
       "True"
      ]
     },
     "execution_count": 37,
     "metadata": {},
     "output_type": "execute_result"
    }
   ],
   "source": [
    "np.allclose(X_train, np.dot(u * s, vh))"
   ]
  },
  {
   "cell_type": "code",
   "execution_count": 38,
   "id": "09d13ddc-c8b2-4e24-940a-19622e7708eb",
   "metadata": {},
   "outputs": [],
   "source": [
    "autoval = s"
   ]
  },
  {
   "cell_type": "code",
   "execution_count": 39,
   "id": "6ac698d8-c30f-48c4-b95f-7f8b6b081f57",
   "metadata": {},
   "outputs": [],
   "source": [
    "autovet = vh.T"
   ]
  },
  {
   "cell_type": "code",
   "execution_count": 40,
   "id": "f8c5ad60-f2a4-4b6d-853a-eb0bd860713a",
   "metadata": {},
   "outputs": [
    {
     "data": {
      "text/plain": [
       "(1024, 1024)"
      ]
     },
     "execution_count": 40,
     "metadata": {},
     "output_type": "execute_result"
    }
   ],
   "source": [
    "autovet.shape"
   ]
  },
  {
   "cell_type": "code",
   "execution_count": 41,
   "id": "5c68cf04-e698-4516-b7c1-35b6ed46f205",
   "metadata": {},
   "outputs": [
    {
     "data": {
      "text/plain": [
       "(1024, 1024)"
      ]
     },
     "execution_count": 41,
     "metadata": {},
     "output_type": "execute_result"
    }
   ],
   "source": [
    "np.diag(s).shape"
   ]
  },
  {
   "cell_type": "code",
   "execution_count": 42,
   "id": "afbaf167-912d-4d02-9df6-0ae4e1d2f844",
   "metadata": {},
   "outputs": [
    {
     "data": {
      "image/png": "[encoded data removed]",
      "text/plain": [
       "<Figure size 432x288 with 1 Axes>"
      ]
     },
     "metadata": {
      "needs_background": "light"
     },
     "output_type": "display_data"
    }
   ],
   "source": [
    "soma_autoval = sum(autoval)\n",
    "var_exp = [(i/soma_autoval) for i in autoval]\n",
    "cum_sum_exp = np.cumsum(var_exp)\n",
    "\n",
    "plt.step(range(0, len(cum_sum_exp)), cum_sum_exp, where='mid')\n",
    "plt.ylabel('Variabilidade Acumulada')\n",
    "plt.xlabel('Principal component index (r)')\n",
    "plt.tight_layout()\n",
    "plt.show()"
   ]
  },
  {
   "cell_type": "code",
   "execution_count": 52,
   "id": "90cbfc73-7ffd-4187-a2e5-f5200f3e38ac",
   "metadata": {},
   "outputs": [
    {
     "data": {
      "image/png": "[encoded data removed]",
      "text/plain": [
       "<Figure size 432x288 with 1 Axes>"
      ]
     },
     "metadata": {
      "needs_background": "light"
     },
     "output_type": "display_data"
    }
   ],
   "source": [
    "plt.step(range(0, len(cum_sum_exp)), cum_sum_exp, where='mid')\n",
    "plt.ylabel('Variabilidade Acumulada')\n",
    "plt.xlabel('Principal component index (r)')\n",
    "\n",
    "r = 750\n",
    "plt.axis([300, 850, 0.8, 1.0])\n",
    "plt.vlines(x=r, ymin=0.8, ymax=cum_sum_exp[r], colors='r',linestyles='dashed')\n",
    "plt.hlines(y=cum_sum_exp[r], xmin=70, xmax=r, colors='k',linestyles='dashed')\n",
    "\n",
    "plt.tight_layout()\n",
    "plt.show()"
   ]
  },
  {
   "cell_type": "code",
   "execution_count": 47,
   "id": "5d8125c9-4378-42b8-96f4-ea7eeba8c115",
   "metadata": {},
   "outputs": [
    {
     "data": {
      "text/plain": [
       "0.95"
      ]
     },
     "execution_count": 49,
     "metadata": {},
     "output_type": "execute_result"
    }
   ],
   "source": [
    "round(cum_sum_exp[r], 2)"
   ]
  },
  {
   "cell_type": "code",
   "execution_count": 55,
   "id": "4b93c9c4-3cb1-4bc5-8b4b-12eed2ba9941",
   "metadata": {},
   "outputs": [],
   "source": [
    "Q_r_SVD = autovet[:, :r]"
   ]
  },
  {
   "cell_type": "code",
   "execution_count": 56,
   "id": "f912a19f-050d-445a-97b3-e6b1519fedf2",
   "metadata": {},
   "outputs": [],
   "source": [
    "Z_train = np.matmul(X_train, Q_r_SVD)\n",
    "Z_test = np.matmul(X_test, Q_r_SVD)"
   ]
  },
  {
   "cell_type": "code",
   "execution_count": 57,
   "id": "1217df11-821a-4cb1-b679-d84ca0a030c8",
   "metadata": {},
   "outputs": [
    {
     "name": "stdout",
     "output_type": "stream",
     "text": [
      "[0 0 1 ... 1 0 1]\n"
     ]
    }
   ],
   "source": [
    "model = KNeighborsClassifier(n_neighbors=1)\n",
    "model.fit(Z_train, y_train)\n",
    "y_pred = model.predict(Z_test)\n",
    "print(y_pred)"
   ]
  },
  {
   "cell_type": "code",
   "execution_count": 59,
   "id": "9c5e39a4-9978-483c-885a-852e50f51322",
   "metadata": {},
   "outputs": [
    {
     "data": {
      "text/plain": [
       "0.9185"
      ]
     },
     "execution_count": 59,
     "metadata": {},
     "output_type": "execute_result"
    }
   ],
   "source": [
    "accuracy_score(y_test, y_pred)"
   ]
  },
  {
   "cell_type": "code",
   "execution_count": 64,
   "id": "5eca821a-abef-4c87-86a3-cbc3f0660d88",
   "metadata": {},
   "outputs": [
    {
     "name": "stdout",
     "output_type": "stream",
     "text": [
      "1\n",
      "2\n",
      "3\n",
      "4\n",
      "5\n",
      "6\n",
      "7\n",
      "8\n",
      "9\n",
      "10\n",
      "time: 5.867219924926758 seconds\n"
     ]
    }
   ],
   "source": [
    "accuracy_svd = []\n",
    "\n",
    "import time\n",
    "start = time.time()\n",
    "\n",
    "for r in range(1024):\n",
    "    Q_r_SVD = autovet[:, :r+1].astype(np.float32)\n",
    "    Z_train = np.matmul(X_train, Q_r_SVD)\n",
    "    Z_test = np.matmul(X_test, Q_r_SVD)\n",
    "    model = KNeighborsClassifier(n_neighbors=1)\n",
    "    model.fit(Z_train, y_train)\n",
    "    y_pred = model.predict(Z_test)\n",
    "    accuracy_svd.append(accuracy_score(y_test, y_pred))\n",
    "    print(r+1)\n",
    "    \n",
    "end = time.time()\n",
    "print(f'time: {end - start} seconds')"
   ]
  },
  {
   "cell_type": "code",
   "execution_count": 65,
   "id": "d95a380d-70d5-43b2-a8b5-1bf3518de5af",
   "metadata": {},
   "outputs": [
    {
     "data": {
      "text/plain": [
       "[0.65225,\n",
       " 0.8269166666666666,\n",
       " 0.8901666666666667,\n",
       " 0.9105,\n",
       " 0.9240833333333334,\n",
       " 0.9353333333333333,\n",
       " 0.9403333333333334,\n",
       " 0.9440833333333334,\n",
       " 0.9475,\n",
       " 0.9524166666666667]"
      ]
     },
     "execution_count": 65,
     "metadata": {},
     "output_type": "execute_result"
    }
   ],
   "source": [
    "accuracy_svd"
   ]
  },
  {
   "cell_type": "code",
   "execution_count": null,
   "id": "e0084820-09da-421d-9088-4fc2a44aa7a5",
   "metadata": {},
   "outputs": [],
   "source": []
  }
 ],
 "metadata": {
  "kernelspec": {
   "display_name": "Python 3 (ipykernel)",
   "language": "python",
   "name": "python3"
  },
  "language_info": {
   "codemirror_mode": {
    "name": "ipython",
    "version": 3
   },
   "file_extension": ".py",
   "mimetype": "text/x-python",
   "name": "python",
   "nbconvert_exporter": "python",
   "pygments_lexer": "ipython3",
   "version": "3.8.10"
  }
 },
 "nbformat": 4,
 "nbformat_minor": 5
}
