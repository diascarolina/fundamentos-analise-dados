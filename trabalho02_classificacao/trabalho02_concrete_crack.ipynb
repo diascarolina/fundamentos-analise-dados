{
 "cells": [
  {
   "cell_type": "code",
   "execution_count": 3,
   "id": "9d31437f",
   "metadata": {},
   "outputs": [],
   "source": [
    "from PIL import Image\n",
    "import numpy as np"
   ]
  },
  {
   "cell_type": "markdown",
   "id": "df32a67f-1359-4a10-afa8-385f45e1d144",
   "metadata": {},
   "source": [
    "https://www.pluralsight.com/guides/importing-image-data-into-numpy-arrays\n",
    "\n",
    "https://stackoverflow.com/questions/62171840/how-to-resize-multiple-images-from-a-folder-convert-them-into-grayscale-and-sav"
   ]
  },
  {
   "cell_type": "markdown",
   "id": "88a650b0-9f32-4475-8eff-ce19f1055133",
   "metadata": {},
   "source": [
    "20 mil imagens positivas e 20 mil imagens negativas."
   ]
  },
  {
   "cell_type": "code",
   "execution_count": 8,
   "id": "cbbbdc54",
   "metadata": {},
   "outputs": [],
   "source": [
    "image = Image.open('../data/concrete_crack/Positive/00001.jpg')"
   ]
  },
  {
   "cell_type": "code",
   "execution_count": 9,
   "id": "2e03f6f0-3f4c-4cec-b71b-b8ebe4b0d7a4",
   "metadata": {},
   "outputs": [
    {
     "name": "stdout",
     "output_type": "stream",
     "text": [
      "<class 'numpy.ndarray'>\n"
     ]
    }
   ],
   "source": [
    "# convert image to numpy array\n",
    "data = np.asarray(image)\n",
    "print(type(data))"
   ]
  },
  {
   "cell_type": "code",
   "execution_count": 10,
   "id": "0e3bbc7b-3806-4927-abcd-3d0164696dcf",
   "metadata": {},
   "outputs": [
    {
     "name": "stdout",
     "output_type": "stream",
     "text": [
      "(227, 227, 3)\n"
     ]
    }
   ],
   "source": [
    "# summarize shape\n",
    "print(data.shape)"
   ]
  },
  {
   "cell_type": "code",
   "execution_count": 26,
   "id": "013aa976-e691-4003-84b5-fbcc5c369132",
   "metadata": {},
   "outputs": [
    {
     "data": {
      "text/plain": [
       "(32, 32)"
      ]
     },
     "execution_count": 26,
     "metadata": {},
     "output_type": "execute_result"
    }
   ],
   "source": [
    "image_path = '../data/concrete_crack/Positive/00001.jpg'\n",
    "# o modo 'L' abaixo transforma a imagem em single channel\n",
    "# interpretado, geralmente, como níveis de cinza\n",
    "imagem = Image.open(image_path).convert('L').resize((32, 32))\n",
    "imagem_array = np.array(imagem)\n",
    "imagem_array.shape"
   ]
  },
  {
   "cell_type": "code",
   "execution_count": 29,
   "id": "ff74458f-2929-46f3-8e8d-326ef82f62be",
   "metadata": {},
   "outputs": [],
   "source": [
    "import splitfolders\n",
    "\n",
    "splitfolders.ratio(\"../data/concrete_crack/\",\n",
    "                   output=\"../data/concrete_crack_split/\",\n",
    "                   seed=1337,\n",
    "                   ratio=(0.7, 0.3),\n",
    "                   move=False)"
   ]
  },
  {
   "cell_type": "code",
   "execution_count": null,
   "id": "ba2764e3-9e26-4caa-af91-a5f9d5c703db",
   "metadata": {},
   "outputs": [],
   "source": []
  }
 ],
 "metadata": {
  "kernelspec": {
   "display_name": "Python 3 (ipykernel)",
   "language": "python",
   "name": "python3"
  },
  "language_info": {
   "codemirror_mode": {
    "name": "ipython",
    "version": 3
   },
   "file_extension": ".py",
   "mimetype": "text/x-python",
   "name": "python",
   "nbconvert_exporter": "python",
   "pygments_lexer": "ipython3",
   "version": "3.9.12"
  }
 },
 "nbformat": 4,
 "nbformat_minor": 5
}
