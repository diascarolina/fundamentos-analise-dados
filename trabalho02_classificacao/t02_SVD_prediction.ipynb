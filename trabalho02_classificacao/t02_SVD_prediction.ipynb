{
 "cells": [
  {
   "cell_type": "markdown",
   "id": "ac24f108-0598-47f1-8672-eb8fc5106dcf",
   "metadata": {
    "id": "ac24f108-0598-47f1-8672-eb8fc5106dcf"
   },
   "source": [
    "# Trabalho 02 - Fundamentos de Análise de Dados"
   ]
  },
  {
   "cell_type": "markdown",
   "id": "7f6ead3e-5a08-4123-828f-b09cc35925bf",
   "metadata": {
    "id": "7f6ead3e-5a08-4123-828f-b09cc35925bf"
   },
   "source": [
    "# Classificação - Concrete Cracks"
   ]
  },
  {
   "cell_type": "markdown",
   "id": "0c258cd7-3559-462c-a89e-23267fd1f2d6",
   "metadata": {
    "id": "0c258cd7-3559-462c-a89e-23267fd1f2d6"
   },
   "source": [
    "## Bibliotecas"
   ]
  },
  {
   "cell_type": "code",
   "execution_count": 1,
   "id": "5a5c16ac-5192-41b9-8305-163f1929941c",
   "metadata": {
    "id": "5a5c16ac-5192-41b9-8305-163f1929941c"
   },
   "outputs": [],
   "source": [
    "import pandas as pd\n",
    "import numpy as np\n",
    "\n",
    "import matplotlib.pyplot as plt\n",
    "\n",
    "from sklearn.neighbors import KNeighborsClassifier\n",
    "from sklearn.metrics import accuracy_score\n",
    "from sklearn.model_selection import train_test_split"
   ]
  },
  {
   "cell_type": "markdown",
   "id": "10183612-9997-4786-950a-e8d66a8f6e5b",
   "metadata": {
    "id": "10183612-9997-4786-950a-e8d66a8f6e5b"
   },
   "source": [
    "## 2 Leitura dos Dados\n",
    "\n",
    "Esse dados representam as 40 mil imagens, colocadas em um dataframe que foi criado no notebook `t02_data_manipulation.ipynb`."
   ]
  },
  {
   "cell_type": "code",
   "execution_count": 5,
   "id": "50eca5a3-2fed-4005-a1d2-8b4c61201c80",
   "metadata": {
    "colab": {
     "base_uri": "https://localhost:8080/",
     "height": 424
    },
    "id": "50eca5a3-2fed-4005-a1d2-8b4c61201c80",
    "outputId": "80a6b286-c0c4-4bf7-a53f-7dc1cdb51c73"
   },
   "outputs": [
    {
     "data": {
      "text/html": [
       "<div>\n",
       "<style scoped>\n",
       "    .dataframe tbody tr th:only-of-type {\n",
       "        vertical-align: middle;\n",
       "    }\n",
       "\n",
       "    .dataframe tbody tr th {\n",
       "        vertical-align: top;\n",
       "    }\n",
       "\n",
       "    .dataframe thead th {\n",
       "        text-align: right;\n",
       "    }\n",
       "</style>\n",
       "<table border=\"1\" class=\"dataframe\">\n",
       "  <thead>\n",
       "    <tr style=\"text-align: right;\">\n",
       "      <th></th>\n",
       "      <th>arquivo</th>\n",
       "      <th>classe</th>\n",
       "      <th>0</th>\n",
       "      <th>1</th>\n",
       "      <th>2</th>\n",
       "      <th>3</th>\n",
       "      <th>4</th>\n",
       "      <th>5</th>\n",
       "      <th>6</th>\n",
       "      <th>7</th>\n",
       "      <th>...</th>\n",
       "      <th>1014</th>\n",
       "      <th>1015</th>\n",
       "      <th>1016</th>\n",
       "      <th>1017</th>\n",
       "      <th>1018</th>\n",
       "      <th>1019</th>\n",
       "      <th>1020</th>\n",
       "      <th>1021</th>\n",
       "      <th>1022</th>\n",
       "      <th>1023</th>\n",
       "    </tr>\n",
       "  </thead>\n",
       "  <tbody>\n",
       "    <tr>\n",
       "      <th>0</th>\n",
       "      <td>16679_1.jpg</td>\n",
       "      <td>1</td>\n",
       "      <td>170.0</td>\n",
       "      <td>174.0</td>\n",
       "      <td>177.0</td>\n",
       "      <td>172.0</td>\n",
       "      <td>167.0</td>\n",
       "      <td>161.0</td>\n",
       "      <td>156.0</td>\n",
       "      <td>161.0</td>\n",
       "      <td>...</td>\n",
       "      <td>176.0</td>\n",
       "      <td>188.0</td>\n",
       "      <td>168.0</td>\n",
       "      <td>96.0</td>\n",
       "      <td>67.0</td>\n",
       "      <td>77.0</td>\n",
       "      <td>136.0</td>\n",
       "      <td>166.0</td>\n",
       "      <td>175.0</td>\n",
       "      <td>171.0</td>\n",
       "    </tr>\n",
       "    <tr>\n",
       "      <th>1</th>\n",
       "      <td>04354.jpg</td>\n",
       "      <td>1</td>\n",
       "      <td>183.0</td>\n",
       "      <td>186.0</td>\n",
       "      <td>191.0</td>\n",
       "      <td>187.0</td>\n",
       "      <td>178.0</td>\n",
       "      <td>179.0</td>\n",
       "      <td>182.0</td>\n",
       "      <td>181.0</td>\n",
       "      <td>...</td>\n",
       "      <td>186.0</td>\n",
       "      <td>183.0</td>\n",
       "      <td>181.0</td>\n",
       "      <td>182.0</td>\n",
       "      <td>183.0</td>\n",
       "      <td>184.0</td>\n",
       "      <td>184.0</td>\n",
       "      <td>185.0</td>\n",
       "      <td>182.0</td>\n",
       "      <td>181.0</td>\n",
       "    </tr>\n",
       "    <tr>\n",
       "      <th>2</th>\n",
       "      <td>02725.jpg</td>\n",
       "      <td>1</td>\n",
       "      <td>158.0</td>\n",
       "      <td>158.0</td>\n",
       "      <td>160.0</td>\n",
       "      <td>149.0</td>\n",
       "      <td>149.0</td>\n",
       "      <td>157.0</td>\n",
       "      <td>155.0</td>\n",
       "      <td>150.0</td>\n",
       "      <td>...</td>\n",
       "      <td>185.0</td>\n",
       "      <td>184.0</td>\n",
       "      <td>194.0</td>\n",
       "      <td>190.0</td>\n",
       "      <td>192.0</td>\n",
       "      <td>182.0</td>\n",
       "      <td>181.0</td>\n",
       "      <td>179.0</td>\n",
       "      <td>198.0</td>\n",
       "      <td>190.0</td>\n",
       "    </tr>\n",
       "    <tr>\n",
       "      <th>3</th>\n",
       "      <td>11369_1.jpg</td>\n",
       "      <td>1</td>\n",
       "      <td>187.0</td>\n",
       "      <td>187.0</td>\n",
       "      <td>190.0</td>\n",
       "      <td>192.0</td>\n",
       "      <td>196.0</td>\n",
       "      <td>195.0</td>\n",
       "      <td>201.0</td>\n",
       "      <td>216.0</td>\n",
       "      <td>...</td>\n",
       "      <td>193.0</td>\n",
       "      <td>188.0</td>\n",
       "      <td>194.0</td>\n",
       "      <td>196.0</td>\n",
       "      <td>187.0</td>\n",
       "      <td>191.0</td>\n",
       "      <td>190.0</td>\n",
       "      <td>190.0</td>\n",
       "      <td>188.0</td>\n",
       "      <td>190.0</td>\n",
       "    </tr>\n",
       "    <tr>\n",
       "      <th>4</th>\n",
       "      <td>19463.jpg</td>\n",
       "      <td>1</td>\n",
       "      <td>176.0</td>\n",
       "      <td>174.0</td>\n",
       "      <td>174.0</td>\n",
       "      <td>162.0</td>\n",
       "      <td>71.0</td>\n",
       "      <td>166.0</td>\n",
       "      <td>206.0</td>\n",
       "      <td>170.0</td>\n",
       "      <td>...</td>\n",
       "      <td>183.0</td>\n",
       "      <td>182.0</td>\n",
       "      <td>176.0</td>\n",
       "      <td>171.0</td>\n",
       "      <td>184.0</td>\n",
       "      <td>176.0</td>\n",
       "      <td>179.0</td>\n",
       "      <td>185.0</td>\n",
       "      <td>174.0</td>\n",
       "      <td>190.0</td>\n",
       "    </tr>\n",
       "    <tr>\n",
       "      <th>...</th>\n",
       "      <td>...</td>\n",
       "      <td>...</td>\n",
       "      <td>...</td>\n",
       "      <td>...</td>\n",
       "      <td>...</td>\n",
       "      <td>...</td>\n",
       "      <td>...</td>\n",
       "      <td>...</td>\n",
       "      <td>...</td>\n",
       "      <td>...</td>\n",
       "      <td>...</td>\n",
       "      <td>...</td>\n",
       "      <td>...</td>\n",
       "      <td>...</td>\n",
       "      <td>...</td>\n",
       "      <td>...</td>\n",
       "      <td>...</td>\n",
       "      <td>...</td>\n",
       "      <td>...</td>\n",
       "      <td>...</td>\n",
       "      <td>...</td>\n",
       "    </tr>\n",
       "    <tr>\n",
       "      <th>39995</th>\n",
       "      <td>11026.jpg</td>\n",
       "      <td>0</td>\n",
       "      <td>166.0</td>\n",
       "      <td>172.0</td>\n",
       "      <td>183.0</td>\n",
       "      <td>174.0</td>\n",
       "      <td>142.0</td>\n",
       "      <td>153.0</td>\n",
       "      <td>144.0</td>\n",
       "      <td>161.0</td>\n",
       "      <td>...</td>\n",
       "      <td>194.0</td>\n",
       "      <td>192.0</td>\n",
       "      <td>187.0</td>\n",
       "      <td>189.0</td>\n",
       "      <td>188.0</td>\n",
       "      <td>184.0</td>\n",
       "      <td>197.0</td>\n",
       "      <td>187.0</td>\n",
       "      <td>187.0</td>\n",
       "      <td>191.0</td>\n",
       "    </tr>\n",
       "    <tr>\n",
       "      <th>39996</th>\n",
       "      <td>05053.jpg</td>\n",
       "      <td>0</td>\n",
       "      <td>175.0</td>\n",
       "      <td>172.0</td>\n",
       "      <td>175.0</td>\n",
       "      <td>172.0</td>\n",
       "      <td>170.0</td>\n",
       "      <td>170.0</td>\n",
       "      <td>166.0</td>\n",
       "      <td>164.0</td>\n",
       "      <td>...</td>\n",
       "      <td>167.0</td>\n",
       "      <td>170.0</td>\n",
       "      <td>176.0</td>\n",
       "      <td>171.0</td>\n",
       "      <td>168.0</td>\n",
       "      <td>169.0</td>\n",
       "      <td>168.0</td>\n",
       "      <td>170.0</td>\n",
       "      <td>171.0</td>\n",
       "      <td>164.0</td>\n",
       "    </tr>\n",
       "    <tr>\n",
       "      <th>39997</th>\n",
       "      <td>15240.jpg</td>\n",
       "      <td>0</td>\n",
       "      <td>161.0</td>\n",
       "      <td>161.0</td>\n",
       "      <td>162.0</td>\n",
       "      <td>161.0</td>\n",
       "      <td>163.0</td>\n",
       "      <td>161.0</td>\n",
       "      <td>162.0</td>\n",
       "      <td>162.0</td>\n",
       "      <td>...</td>\n",
       "      <td>164.0</td>\n",
       "      <td>164.0</td>\n",
       "      <td>164.0</td>\n",
       "      <td>165.0</td>\n",
       "      <td>163.0</td>\n",
       "      <td>163.0</td>\n",
       "      <td>166.0</td>\n",
       "      <td>164.0</td>\n",
       "      <td>163.0</td>\n",
       "      <td>161.0</td>\n",
       "    </tr>\n",
       "    <tr>\n",
       "      <th>39998</th>\n",
       "      <td>03422.jpg</td>\n",
       "      <td>0</td>\n",
       "      <td>213.0</td>\n",
       "      <td>212.0</td>\n",
       "      <td>202.0</td>\n",
       "      <td>206.0</td>\n",
       "      <td>209.0</td>\n",
       "      <td>207.0</td>\n",
       "      <td>208.0</td>\n",
       "      <td>207.0</td>\n",
       "      <td>...</td>\n",
       "      <td>206.0</td>\n",
       "      <td>202.0</td>\n",
       "      <td>215.0</td>\n",
       "      <td>230.0</td>\n",
       "      <td>205.0</td>\n",
       "      <td>192.0</td>\n",
       "      <td>189.0</td>\n",
       "      <td>193.0</td>\n",
       "      <td>188.0</td>\n",
       "      <td>189.0</td>\n",
       "    </tr>\n",
       "    <tr>\n",
       "      <th>39999</th>\n",
       "      <td>13631.jpg</td>\n",
       "      <td>0</td>\n",
       "      <td>163.0</td>\n",
       "      <td>181.0</td>\n",
       "      <td>184.0</td>\n",
       "      <td>182.0</td>\n",
       "      <td>186.0</td>\n",
       "      <td>195.0</td>\n",
       "      <td>183.0</td>\n",
       "      <td>183.0</td>\n",
       "      <td>...</td>\n",
       "      <td>193.0</td>\n",
       "      <td>185.0</td>\n",
       "      <td>180.0</td>\n",
       "      <td>182.0</td>\n",
       "      <td>188.0</td>\n",
       "      <td>172.0</td>\n",
       "      <td>183.0</td>\n",
       "      <td>188.0</td>\n",
       "      <td>180.0</td>\n",
       "      <td>187.0</td>\n",
       "    </tr>\n",
       "  </tbody>\n",
       "</table>\n",
       "<p>40000 rows × 1026 columns</p>\n",
       "</div>"
      ],
      "text/plain": [
       "           arquivo  classe      0      1      2      3      4      5      6  \\\n",
       "0      16679_1.jpg       1  170.0  174.0  177.0  172.0  167.0  161.0  156.0   \n",
       "1        04354.jpg       1  183.0  186.0  191.0  187.0  178.0  179.0  182.0   \n",
       "2        02725.jpg       1  158.0  158.0  160.0  149.0  149.0  157.0  155.0   \n",
       "3      11369_1.jpg       1  187.0  187.0  190.0  192.0  196.0  195.0  201.0   \n",
       "4        19463.jpg       1  176.0  174.0  174.0  162.0   71.0  166.0  206.0   \n",
       "...            ...     ...    ...    ...    ...    ...    ...    ...    ...   \n",
       "39995    11026.jpg       0  166.0  172.0  183.0  174.0  142.0  153.0  144.0   \n",
       "39996    05053.jpg       0  175.0  172.0  175.0  172.0  170.0  170.0  166.0   \n",
       "39997    15240.jpg       0  161.0  161.0  162.0  161.0  163.0  161.0  162.0   \n",
       "39998    03422.jpg       0  213.0  212.0  202.0  206.0  209.0  207.0  208.0   \n",
       "39999    13631.jpg       0  163.0  181.0  184.0  182.0  186.0  195.0  183.0   \n",
       "\n",
       "           7  ...   1014   1015   1016   1017   1018   1019   1020   1021  \\\n",
       "0      161.0  ...  176.0  188.0  168.0   96.0   67.0   77.0  136.0  166.0   \n",
       "1      181.0  ...  186.0  183.0  181.0  182.0  183.0  184.0  184.0  185.0   \n",
       "2      150.0  ...  185.0  184.0  194.0  190.0  192.0  182.0  181.0  179.0   \n",
       "3      216.0  ...  193.0  188.0  194.0  196.0  187.0  191.0  190.0  190.0   \n",
       "4      170.0  ...  183.0  182.0  176.0  171.0  184.0  176.0  179.0  185.0   \n",
       "...      ...  ...    ...    ...    ...    ...    ...    ...    ...    ...   \n",
       "39995  161.0  ...  194.0  192.0  187.0  189.0  188.0  184.0  197.0  187.0   \n",
       "39996  164.0  ...  167.0  170.0  176.0  171.0  168.0  169.0  168.0  170.0   \n",
       "39997  162.0  ...  164.0  164.0  164.0  165.0  163.0  163.0  166.0  164.0   \n",
       "39998  207.0  ...  206.0  202.0  215.0  230.0  205.0  192.0  189.0  193.0   \n",
       "39999  183.0  ...  193.0  185.0  180.0  182.0  188.0  172.0  183.0  188.0   \n",
       "\n",
       "        1022   1023  \n",
       "0      175.0  171.0  \n",
       "1      182.0  181.0  \n",
       "2      198.0  190.0  \n",
       "3      188.0  190.0  \n",
       "4      174.0  190.0  \n",
       "...      ...    ...  \n",
       "39995  187.0  191.0  \n",
       "39996  171.0  164.0  \n",
       "39997  163.0  161.0  \n",
       "39998  188.0  189.0  \n",
       "39999  180.0  187.0  \n",
       "\n",
       "[40000 rows x 1026 columns]"
      ]
     },
     "execution_count": 5,
     "metadata": {},
     "output_type": "execute_result"
    }
   ],
   "source": [
    "dados = pd.read_parquet(\"https://github.com/diascarolina/fundamentos-analise-dados/blob/main/trabalho02_classificacao/df_total.parquet?raw=true\")\n",
    "dados"
   ]
  },
  {
   "cell_type": "code",
   "execution_count": 6,
   "id": "576b5d55-2e74-4f1c-b6dc-ac92553f682f",
   "metadata": {
    "id": "576b5d55-2e74-4f1c-b6dc-ac92553f682f"
   },
   "outputs": [],
   "source": [
    "# embaralhar os dados para não ficarem divididos pelas classes\n",
    "dados = dados.sample(frac=1, random_state=12).reset_index(drop=True)"
   ]
  },
  {
   "cell_type": "code",
   "execution_count": 7,
   "id": "8676410f-e8c7-448b-8d21-ca1228f3b2a8",
   "metadata": {
    "colab": {
     "base_uri": "https://localhost:8080/",
     "height": 424
    },
    "id": "8676410f-e8c7-448b-8d21-ca1228f3b2a8",
    "outputId": "714aa6ce-c773-46fe-f519-d1442193a720"
   },
   "outputs": [
    {
     "data": {
      "text/html": [
       "<div>\n",
       "<style scoped>\n",
       "    .dataframe tbody tr th:only-of-type {\n",
       "        vertical-align: middle;\n",
       "    }\n",
       "\n",
       "    .dataframe tbody tr th {\n",
       "        vertical-align: top;\n",
       "    }\n",
       "\n",
       "    .dataframe thead th {\n",
       "        text-align: right;\n",
       "    }\n",
       "</style>\n",
       "<table border=\"1\" class=\"dataframe\">\n",
       "  <thead>\n",
       "    <tr style=\"text-align: right;\">\n",
       "      <th></th>\n",
       "      <th>arquivo</th>\n",
       "      <th>classe</th>\n",
       "      <th>0</th>\n",
       "      <th>1</th>\n",
       "      <th>2</th>\n",
       "      <th>3</th>\n",
       "      <th>4</th>\n",
       "      <th>5</th>\n",
       "      <th>6</th>\n",
       "      <th>7</th>\n",
       "      <th>...</th>\n",
       "      <th>1014</th>\n",
       "      <th>1015</th>\n",
       "      <th>1016</th>\n",
       "      <th>1017</th>\n",
       "      <th>1018</th>\n",
       "      <th>1019</th>\n",
       "      <th>1020</th>\n",
       "      <th>1021</th>\n",
       "      <th>1022</th>\n",
       "      <th>1023</th>\n",
       "    </tr>\n",
       "  </thead>\n",
       "  <tbody>\n",
       "    <tr>\n",
       "      <th>0</th>\n",
       "      <td>08065.jpg</td>\n",
       "      <td>0</td>\n",
       "      <td>187.0</td>\n",
       "      <td>187.0</td>\n",
       "      <td>190.0</td>\n",
       "      <td>187.0</td>\n",
       "      <td>185.0</td>\n",
       "      <td>186.0</td>\n",
       "      <td>190.0</td>\n",
       "      <td>185.0</td>\n",
       "      <td>...</td>\n",
       "      <td>168.0</td>\n",
       "      <td>169.0</td>\n",
       "      <td>168.0</td>\n",
       "      <td>167.0</td>\n",
       "      <td>166.0</td>\n",
       "      <td>166.0</td>\n",
       "      <td>166.0</td>\n",
       "      <td>165.0</td>\n",
       "      <td>166.0</td>\n",
       "      <td>173.0</td>\n",
       "    </tr>\n",
       "    <tr>\n",
       "      <th>1</th>\n",
       "      <td>03159.jpg</td>\n",
       "      <td>0</td>\n",
       "      <td>181.0</td>\n",
       "      <td>175.0</td>\n",
       "      <td>168.0</td>\n",
       "      <td>175.0</td>\n",
       "      <td>178.0</td>\n",
       "      <td>176.0</td>\n",
       "      <td>183.0</td>\n",
       "      <td>178.0</td>\n",
       "      <td>...</td>\n",
       "      <td>184.0</td>\n",
       "      <td>179.0</td>\n",
       "      <td>166.0</td>\n",
       "      <td>163.0</td>\n",
       "      <td>161.0</td>\n",
       "      <td>178.0</td>\n",
       "      <td>181.0</td>\n",
       "      <td>184.0</td>\n",
       "      <td>186.0</td>\n",
       "      <td>185.0</td>\n",
       "    </tr>\n",
       "    <tr>\n",
       "      <th>2</th>\n",
       "      <td>13193_1.jpg</td>\n",
       "      <td>1</td>\n",
       "      <td>214.0</td>\n",
       "      <td>216.0</td>\n",
       "      <td>218.0</td>\n",
       "      <td>218.0</td>\n",
       "      <td>219.0</td>\n",
       "      <td>223.0</td>\n",
       "      <td>221.0</td>\n",
       "      <td>218.0</td>\n",
       "      <td>...</td>\n",
       "      <td>214.0</td>\n",
       "      <td>215.0</td>\n",
       "      <td>214.0</td>\n",
       "      <td>213.0</td>\n",
       "      <td>215.0</td>\n",
       "      <td>207.0</td>\n",
       "      <td>208.0</td>\n",
       "      <td>206.0</td>\n",
       "      <td>207.0</td>\n",
       "      <td>212.0</td>\n",
       "    </tr>\n",
       "    <tr>\n",
       "      <th>3</th>\n",
       "      <td>03741.jpg</td>\n",
       "      <td>1</td>\n",
       "      <td>190.0</td>\n",
       "      <td>192.0</td>\n",
       "      <td>187.0</td>\n",
       "      <td>188.0</td>\n",
       "      <td>194.0</td>\n",
       "      <td>188.0</td>\n",
       "      <td>183.0</td>\n",
       "      <td>181.0</td>\n",
       "      <td>...</td>\n",
       "      <td>61.0</td>\n",
       "      <td>70.0</td>\n",
       "      <td>66.0</td>\n",
       "      <td>92.0</td>\n",
       "      <td>149.0</td>\n",
       "      <td>182.0</td>\n",
       "      <td>190.0</td>\n",
       "      <td>192.0</td>\n",
       "      <td>193.0</td>\n",
       "      <td>194.0</td>\n",
       "    </tr>\n",
       "    <tr>\n",
       "      <th>4</th>\n",
       "      <td>19779.jpg</td>\n",
       "      <td>1</td>\n",
       "      <td>93.0</td>\n",
       "      <td>59.0</td>\n",
       "      <td>89.0</td>\n",
       "      <td>131.0</td>\n",
       "      <td>151.0</td>\n",
       "      <td>152.0</td>\n",
       "      <td>154.0</td>\n",
       "      <td>152.0</td>\n",
       "      <td>...</td>\n",
       "      <td>160.0</td>\n",
       "      <td>163.0</td>\n",
       "      <td>164.0</td>\n",
       "      <td>161.0</td>\n",
       "      <td>164.0</td>\n",
       "      <td>161.0</td>\n",
       "      <td>157.0</td>\n",
       "      <td>161.0</td>\n",
       "      <td>156.0</td>\n",
       "      <td>150.0</td>\n",
       "    </tr>\n",
       "    <tr>\n",
       "      <th>...</th>\n",
       "      <td>...</td>\n",
       "      <td>...</td>\n",
       "      <td>...</td>\n",
       "      <td>...</td>\n",
       "      <td>...</td>\n",
       "      <td>...</td>\n",
       "      <td>...</td>\n",
       "      <td>...</td>\n",
       "      <td>...</td>\n",
       "      <td>...</td>\n",
       "      <td>...</td>\n",
       "      <td>...</td>\n",
       "      <td>...</td>\n",
       "      <td>...</td>\n",
       "      <td>...</td>\n",
       "      <td>...</td>\n",
       "      <td>...</td>\n",
       "      <td>...</td>\n",
       "      <td>...</td>\n",
       "      <td>...</td>\n",
       "      <td>...</td>\n",
       "    </tr>\n",
       "    <tr>\n",
       "      <th>39995</th>\n",
       "      <td>06478.jpg</td>\n",
       "      <td>1</td>\n",
       "      <td>120.0</td>\n",
       "      <td>117.0</td>\n",
       "      <td>111.0</td>\n",
       "      <td>117.0</td>\n",
       "      <td>116.0</td>\n",
       "      <td>118.0</td>\n",
       "      <td>113.0</td>\n",
       "      <td>110.0</td>\n",
       "      <td>...</td>\n",
       "      <td>113.0</td>\n",
       "      <td>121.0</td>\n",
       "      <td>117.0</td>\n",
       "      <td>117.0</td>\n",
       "      <td>125.0</td>\n",
       "      <td>129.0</td>\n",
       "      <td>125.0</td>\n",
       "      <td>128.0</td>\n",
       "      <td>130.0</td>\n",
       "      <td>121.0</td>\n",
       "    </tr>\n",
       "    <tr>\n",
       "      <th>39996</th>\n",
       "      <td>08014.jpg</td>\n",
       "      <td>0</td>\n",
       "      <td>187.0</td>\n",
       "      <td>184.0</td>\n",
       "      <td>180.0</td>\n",
       "      <td>185.0</td>\n",
       "      <td>191.0</td>\n",
       "      <td>181.0</td>\n",
       "      <td>160.0</td>\n",
       "      <td>176.0</td>\n",
       "      <td>...</td>\n",
       "      <td>192.0</td>\n",
       "      <td>169.0</td>\n",
       "      <td>172.0</td>\n",
       "      <td>187.0</td>\n",
       "      <td>188.0</td>\n",
       "      <td>177.0</td>\n",
       "      <td>171.0</td>\n",
       "      <td>188.0</td>\n",
       "      <td>178.0</td>\n",
       "      <td>170.0</td>\n",
       "    </tr>\n",
       "    <tr>\n",
       "      <th>39997</th>\n",
       "      <td>10365_1.jpg</td>\n",
       "      <td>1</td>\n",
       "      <td>63.0</td>\n",
       "      <td>106.0</td>\n",
       "      <td>171.0</td>\n",
       "      <td>178.0</td>\n",
       "      <td>198.0</td>\n",
       "      <td>189.0</td>\n",
       "      <td>172.0</td>\n",
       "      <td>180.0</td>\n",
       "      <td>...</td>\n",
       "      <td>135.0</td>\n",
       "      <td>121.0</td>\n",
       "      <td>77.0</td>\n",
       "      <td>43.0</td>\n",
       "      <td>62.0</td>\n",
       "      <td>112.0</td>\n",
       "      <td>139.0</td>\n",
       "      <td>145.0</td>\n",
       "      <td>177.0</td>\n",
       "      <td>178.0</td>\n",
       "    </tr>\n",
       "    <tr>\n",
       "      <th>39998</th>\n",
       "      <td>00464.jpg</td>\n",
       "      <td>0</td>\n",
       "      <td>191.0</td>\n",
       "      <td>191.0</td>\n",
       "      <td>194.0</td>\n",
       "      <td>195.0</td>\n",
       "      <td>195.0</td>\n",
       "      <td>189.0</td>\n",
       "      <td>188.0</td>\n",
       "      <td>188.0</td>\n",
       "      <td>...</td>\n",
       "      <td>198.0</td>\n",
       "      <td>197.0</td>\n",
       "      <td>199.0</td>\n",
       "      <td>198.0</td>\n",
       "      <td>196.0</td>\n",
       "      <td>197.0</td>\n",
       "      <td>195.0</td>\n",
       "      <td>191.0</td>\n",
       "      <td>192.0</td>\n",
       "      <td>191.0</td>\n",
       "    </tr>\n",
       "    <tr>\n",
       "      <th>39999</th>\n",
       "      <td>13665_1.jpg</td>\n",
       "      <td>1</td>\n",
       "      <td>200.0</td>\n",
       "      <td>195.0</td>\n",
       "      <td>196.0</td>\n",
       "      <td>199.0</td>\n",
       "      <td>195.0</td>\n",
       "      <td>191.0</td>\n",
       "      <td>195.0</td>\n",
       "      <td>194.0</td>\n",
       "      <td>...</td>\n",
       "      <td>189.0</td>\n",
       "      <td>191.0</td>\n",
       "      <td>204.0</td>\n",
       "      <td>189.0</td>\n",
       "      <td>179.0</td>\n",
       "      <td>168.0</td>\n",
       "      <td>166.0</td>\n",
       "      <td>182.0</td>\n",
       "      <td>154.0</td>\n",
       "      <td>157.0</td>\n",
       "    </tr>\n",
       "  </tbody>\n",
       "</table>\n",
       "<p>40000 rows × 1026 columns</p>\n",
       "</div>"
      ],
      "text/plain": [
       "           arquivo  classe      0      1      2      3      4      5      6  \\\n",
       "0        08065.jpg       0  187.0  187.0  190.0  187.0  185.0  186.0  190.0   \n",
       "1        03159.jpg       0  181.0  175.0  168.0  175.0  178.0  176.0  183.0   \n",
       "2      13193_1.jpg       1  214.0  216.0  218.0  218.0  219.0  223.0  221.0   \n",
       "3        03741.jpg       1  190.0  192.0  187.0  188.0  194.0  188.0  183.0   \n",
       "4        19779.jpg       1   93.0   59.0   89.0  131.0  151.0  152.0  154.0   \n",
       "...            ...     ...    ...    ...    ...    ...    ...    ...    ...   \n",
       "39995    06478.jpg       1  120.0  117.0  111.0  117.0  116.0  118.0  113.0   \n",
       "39996    08014.jpg       0  187.0  184.0  180.0  185.0  191.0  181.0  160.0   \n",
       "39997  10365_1.jpg       1   63.0  106.0  171.0  178.0  198.0  189.0  172.0   \n",
       "39998    00464.jpg       0  191.0  191.0  194.0  195.0  195.0  189.0  188.0   \n",
       "39999  13665_1.jpg       1  200.0  195.0  196.0  199.0  195.0  191.0  195.0   \n",
       "\n",
       "           7  ...   1014   1015   1016   1017   1018   1019   1020   1021  \\\n",
       "0      185.0  ...  168.0  169.0  168.0  167.0  166.0  166.0  166.0  165.0   \n",
       "1      178.0  ...  184.0  179.0  166.0  163.0  161.0  178.0  181.0  184.0   \n",
       "2      218.0  ...  214.0  215.0  214.0  213.0  215.0  207.0  208.0  206.0   \n",
       "3      181.0  ...   61.0   70.0   66.0   92.0  149.0  182.0  190.0  192.0   \n",
       "4      152.0  ...  160.0  163.0  164.0  161.0  164.0  161.0  157.0  161.0   \n",
       "...      ...  ...    ...    ...    ...    ...    ...    ...    ...    ...   \n",
       "39995  110.0  ...  113.0  121.0  117.0  117.0  125.0  129.0  125.0  128.0   \n",
       "39996  176.0  ...  192.0  169.0  172.0  187.0  188.0  177.0  171.0  188.0   \n",
       "39997  180.0  ...  135.0  121.0   77.0   43.0   62.0  112.0  139.0  145.0   \n",
       "39998  188.0  ...  198.0  197.0  199.0  198.0  196.0  197.0  195.0  191.0   \n",
       "39999  194.0  ...  189.0  191.0  204.0  189.0  179.0  168.0  166.0  182.0   \n",
       "\n",
       "        1022   1023  \n",
       "0      166.0  173.0  \n",
       "1      186.0  185.0  \n",
       "2      207.0  212.0  \n",
       "3      193.0  194.0  \n",
       "4      156.0  150.0  \n",
       "...      ...    ...  \n",
       "39995  130.0  121.0  \n",
       "39996  178.0  170.0  \n",
       "39997  177.0  178.0  \n",
       "39998  192.0  191.0  \n",
       "39999  154.0  157.0  \n",
       "\n",
       "[40000 rows x 1026 columns]"
      ]
     },
     "execution_count": 7,
     "metadata": {},
     "output_type": "execute_result"
    }
   ],
   "source": [
    "dados"
   ]
  },
  {
   "cell_type": "markdown",
   "id": "c6ab9c35-c9da-4f23-8e99-af3d4f732e0d",
   "metadata": {
    "id": "c6ab9c35-c9da-4f23-8e99-af3d4f732e0d"
   },
   "source": [
    "## 3 Dividir os dados em conjunto de treinamento (70%) e teste (30%)."
   ]
  },
  {
   "cell_type": "code",
   "execution_count": 8,
   "id": "750d7809-5f85-4fa3-baab-98e46e6592e6",
   "metadata": {
    "id": "750d7809-5f85-4fa3-baab-98e46e6592e6"
   },
   "outputs": [],
   "source": [
    "X = dados.drop(['arquivo', 'classe'], axis=1)\n",
    "y = dados['classe']\n",
    "\n",
    "X_train, X_test, y_train, y_test = train_test_split(X,\n",
    "                                                    y,\n",
    "                                                    test_size=0.3,\n",
    "                                                    random_state=12)"
   ]
  },
  {
   "cell_type": "code",
   "execution_count": 9,
   "id": "96e6f3a1-570f-469d-bfb4-d282870b4745",
   "metadata": {
    "id": "96e6f3a1-570f-469d-bfb4-d282870b4745"
   },
   "outputs": [],
   "source": [
    "X_train = X_train.to_numpy()\n",
    "X_test = X_test.to_numpy()\n",
    "y_train = y_train.to_numpy()\n",
    "y_test = y_test.to_numpy()"
   ]
  },
  {
   "cell_type": "markdown",
   "id": "4b4d3c35-10ea-4265-aed6-1ab32bef6ea9",
   "metadata": {
    "id": "4b4d3c35-10ea-4265-aed6-1ab32bef6ea9"
   },
   "source": [
    "## 4 Centralizar as matrizes de treinamento e teste."
   ]
  },
  {
   "cell_type": "code",
   "execution_count": 10,
   "id": "aa8152e8-a2c2-4d35-bc19-ed8a3728caea",
   "metadata": {
    "id": "aa8152e8-a2c2-4d35-bc19-ed8a3728caea"
   },
   "outputs": [],
   "source": [
    "def center_matrix(matrix):\n",
    "    matrix_mean = matrix.mean(axis=0)\n",
    "    return matrix - matrix_mean"
   ]
  },
  {
   "cell_type": "code",
   "execution_count": 11,
   "id": "62406b93",
   "metadata": {
    "id": "62406b93"
   },
   "outputs": [],
   "source": [
    "X_train = center_matrix(X_train)\n",
    "X_test = center_matrix(X_test)"
   ]
  },
  {
   "cell_type": "markdown",
   "id": "a4707d2b-36bb-4776-b599-3403caa7078f",
   "metadata": {
    "id": "a4707d2b-36bb-4776-b599-3403caa7078f"
   },
   "source": [
    "## 5 Calcular a matriz de covariância dos dados de treinamentos.\n",
    "\n",
    "Aqui o parâmetro `rowvar` deve ser setado como `False` pois as variáveis estão nas colunas e as observações estão nas linhas.\n",
    "\n",
    "https://numpy.org/doc/stable/reference/generated/numpy.cov.html"
   ]
  },
  {
   "cell_type": "code",
   "execution_count": 12,
   "id": "90f83c4b-4dc5-46a9-836b-ad59750aa1b9",
   "metadata": {
    "id": "90f83c4b-4dc5-46a9-836b-ad59750aa1b9"
   },
   "outputs": [],
   "source": [
    "cov_treino = np.cov(X_train, rowvar=False)"
   ]
  },
  {
   "cell_type": "markdown",
   "id": "9de28ae0-88c8-4ca8-aa91-f2af88330e16",
   "metadata": {
    "id": "9de28ae0-88c8-4ca8-aa91-f2af88330e16"
   },
   "source": [
    "## 6 Calcular a decomposição espectral da matriz de covariância dos dados de treinamento.\n",
    "\n",
    "Utilizamos a função `np.linalg.eigh()`, pois ela calcula a decomposição espectral para matrizes hermitianas.\n",
    "\n",
    "https://numpy.org/doc/stable/reference/generated/numpy.linalg.eigh.html"
   ]
  },
  {
   "cell_type": "code",
   "execution_count": 13,
   "id": "0588839d-79e1-48fb-a6e3-3fbf18b64de4",
   "metadata": {
    "id": "0588839d-79e1-48fb-a6e3-3fbf18b64de4"
   },
   "outputs": [],
   "source": [
    "autovalores_cov_treino, autovetores_cov_treino = np.linalg.eigh(cov_treino)"
   ]
  },
  {
   "cell_type": "markdown",
   "id": "4891aff9-e103-4a09-a1a7-17b2357385fd",
   "metadata": {
    "id": "4891aff9-e103-4a09-a1a7-17b2357385fd"
   },
   "source": [
    "## 7 Ordenar os autovalores da matriz de covariância dos dados em ordem decrescente.\n",
    "\n",
    "## 8 Ordenar as colunas de Q de acordo com a ordenação dos autovalores feita no item anterior."
   ]
  },
  {
   "cell_type": "markdown",
   "id": "08323fa7-e0d2-4d54-9448-a26c594ec661",
   "metadata": {
    "id": "08323fa7-e0d2-4d54-9448-a26c594ec661"
   },
   "source": [
    "Os autovalores já vem em [ordem crescente](https://numpy.org/doc/stable/reference/generated/numpy.linalg.eigh.html#:~:text=The%20eigenvalues%20in%20ascending%20order), então basta inverter os arrays."
   ]
  },
  {
   "cell_type": "code",
   "execution_count": 14,
   "id": "367de376-04e8-4165-8d28-79f41f70a17c",
   "metadata": {
    "id": "367de376-04e8-4165-8d28-79f41f70a17c"
   },
   "outputs": [],
   "source": [
    "autovalores_cov_treino = autovalores_cov_treino[::-1]\n",
    "autovetores_cov_treino = autovetores_cov_treino[::-1]"
   ]
  },
  {
   "cell_type": "markdown",
   "id": "a0843efb-4b7d-47c0-b92e-1684f78b7bd0",
   "metadata": {
    "id": "a0843efb-4b7d-47c0-b92e-1684f78b7bd0"
   },
   "source": [
    "## 9 Gerar o gráfico de variabilidade acumulada (no eixo das ordenadas) por número de autovalores (no eixo das abscissas)."
   ]
  },
  {
   "cell_type": "code",
   "execution_count": 15,
   "id": "e0e3410e-a69a-428d-b147-841002c0eac8",
   "metadata": {
    "colab": {
     "base_uri": "https://localhost:8080/",
     "height": 297
    },
    "id": "e0e3410e-a69a-428d-b147-841002c0eac8",
    "outputId": "e1d53c31-e4e2-46ff-d7f0-a70a5c235a92"
   },
   "outputs": [
    {
     "data": {
      "image/png": "[encoded data removed]",
      "text/plain": [
       "<Figure size 432x288 with 1 Axes>"
      ]
     },
     "metadata": {
      "needs_background": "light"
     },
     "output_type": "display_data"
    }
   ],
   "source": [
    "soma_autovalores = sum(autovalores_cov_treino)\n",
    "var_exp = [(i/soma_autovalores) for i in autovalores_cov_treino]\n",
    "variabilidade_acumulada = np.cumsum(var_exp)\n",
    "\n",
    "plt.step(range(0, len(variabilidade_acumulada)), variabilidade_acumulada, where='mid')\n",
    "plt.ylabel('Variabilidade Acumulada (Decomp. Espectral)')\n",
    "plt.xlabel('Índice do Autovalor (r)')\n",
    "plt.title('Variabilidade Acumulada por Autovalores')\n",
    "plt.tight_layout()\n",
    "plt.show()"
   ]
  },
  {
   "cell_type": "markdown",
   "id": "6bf5f779-6612-4b96-8f03-f1e576e1b54a",
   "metadata": {
    "id": "6bf5f779-6612-4b96-8f03-f1e576e1b54a"
   },
   "source": [
    "## 10 A partir do gráfico gerado no item anterior, determinar o valor de r, buscando uma solução de compromisso entre um alto valor de variabilidade e um baixo valor de autovalores.\n",
    "\n",
    "Foi escolhido um valor de 95% de variabilidade acumulada, o que corresponde a um r igual a 185."
   ]
  },
  {
   "cell_type": "code",
   "execution_count": 16,
   "id": "5936074d-6368-4e3b-86db-2c3383888501",
   "metadata": {
    "colab": {
     "base_uri": "https://localhost:8080/"
    },
    "id": "5936074d-6368-4e3b-86db-2c3383888501",
    "outputId": "aeaea68d-3db5-4b17-b132-d82dba58623a"
   },
   "outputs": [
    {
     "data": {
      "text/plain": [
       "0.95"
      ]
     },
     "execution_count": 16,
     "metadata": {},
     "output_type": "execute_result"
    }
   ],
   "source": [
    "r = 185\n",
    "variabilidade_acumulada_r = round(variabilidade_acumulada[r], 2)\n",
    "variabilidade_acumulada_r"
   ]
  },
  {
   "cell_type": "code",
   "execution_count": 38,
   "id": "bd8a7333-a27e-44fa-a6d5-9297810629af",
   "metadata": {
    "colab": {
     "base_uri": "https://localhost:8080/",
     "height": 297
    },
    "id": "bd8a7333-a27e-44fa-a6d5-9297810629af",
    "outputId": "f7084169-a361-4e66-c74d-4a3995363b1f"
   },
   "outputs": [
    {
     "data": {
      "image/png": "[encoded data removed]",
      "text/plain": [
       "<Figure size 432x288 with 1 Axes>"
      ]
     },
     "metadata": {
      "needs_background": "light"
     },
     "output_type": "display_data"
    }
   ],
   "source": [
    "plt.step(range(0, len(variabilidade_acumulada)), variabilidade_acumulada, where='mid')\n",
    "plt.ylabel('Variabilidade Acumulada (Decomp. Espectral)')\n",
    "plt.xlabel('Índice do Autovalor (r)')\n",
    "plt.title('Variabilidade Acumulada para r = 185')\n",
    "plt.axis([100, 250, 0.8, 1.0])\n",
    "\n",
    "plt.vlines(x=r, ymin=0.8, ymax=variabilidade_acumulada[r], colors='r',linestyles='dashed')\n",
    "plt.hlines(y=variabilidade_acumulada[r], xmin=70, xmax=r, colors='r',linestyles='dashed')\n",
    "\n",
    "plt.tight_layout()\n",
    "plt.show()"
   ]
  },
  {
   "cell_type": "markdown",
   "id": "5604ff1a-121f-4365-bf37-137a67185d03",
   "metadata": {
    "id": "5604ff1a-121f-4365-bf37-137a67185d03"
   },
   "source": [
    "## 11 Utilizando o valor de r escolhido no item anterior, calcular a matriz $\\hat Q$ $n \\times r$, cujas colunas são as r primeiras colunas de Q."
   ]
  },
  {
   "cell_type": "code",
   "execution_count": 18,
   "id": "cf636d17-d295-4a2c-a7d1-ef5930c84f6b",
   "metadata": {
    "id": "cf636d17-d295-4a2c-a7d1-ef5930c84f6b"
   },
   "outputs": [],
   "source": [
    "Q_r = autovetores_cov_treino[:, :r]"
   ]
  },
  {
   "cell_type": "markdown",
   "id": "08b25fc3-c96b-4fd3-9afe-a8109a873cc7",
   "metadata": {
    "id": "08b25fc3-c96b-4fd3-9afe-a8109a873cc7"
   },
   "source": [
    "## 12 Para o valor de r escolhido, calcular as componentes principais dos dados de treinamento e de teste."
   ]
  },
  {
   "cell_type": "code",
   "execution_count": 19,
   "id": "7633195b-d911-4c1b-997f-b5d03675a1c2",
   "metadata": {
    "id": "7633195b-d911-4c1b-997f-b5d03675a1c2"
   },
   "outputs": [],
   "source": [
    "def componentes_principais(matriz):\n",
    "    return np.matmul(matriz, Q_r)"
   ]
  },
  {
   "cell_type": "code",
   "execution_count": 20,
   "id": "9dbe0744-06b6-4423-9ae6-5b1ca7670c5d",
   "metadata": {
    "id": "9dbe0744-06b6-4423-9ae6-5b1ca7670c5d"
   },
   "outputs": [],
   "source": [
    "Z_train = componentes_principais(X_train)\n",
    "Z_test = componentes_principais(X_test)"
   ]
  },
  {
   "cell_type": "markdown",
   "id": "d6a7df9b-accf-4994-8a50-ab172217be0b",
   "metadata": {
    "id": "d6a7df9b-accf-4994-8a50-ab172217be0b"
   },
   "source": [
    "## 13 Utilizando as equações do item anterior, o algoritmo de classificação do vizinho mais próximo (K-NN, com k = 1) e a distância euclidiana, classificar os dados de teste. Calcular a acurácia."
   ]
  },
  {
   "cell_type": "code",
   "execution_count": 21,
   "id": "c669fd25-0e85-434a-9b5d-d246ccb7d62a",
   "metadata": {
    "id": "c669fd25-0e85-434a-9b5d-d246ccb7d62a"
   },
   "outputs": [],
   "source": [
    "def run_knn_model(k=1):\n",
    "    # a métrica default é a distância euclidiana\n",
    "    model = KNeighborsClassifier(n_neighbors=k)\n",
    "    model.fit(Z_train, y_train)\n",
    "    y_pred = model.predict(Z_test)\n",
    "    return accuracy_score(y_test, y_pred)"
   ]
  },
  {
   "cell_type": "code",
   "execution_count": 22,
   "id": "efa69570-3a72-4bb4-8cfa-7e189b5c689c",
   "metadata": {
    "colab": {
     "base_uri": "https://localhost:8080/"
    },
    "id": "efa69570-3a72-4bb4-8cfa-7e189b5c689c",
    "outputId": "5f4a984e-f4a0-4f0d-f736-478c9159fa9c"
   },
   "outputs": [
    {
     "name": "stdout",
     "output_type": "stream",
     "text": [
      "Acurácia: 0.7044166666666667\n"
     ]
    }
   ],
   "source": [
    "print(f'Acurácia: {run_knn_model()}')"
   ]
  },
  {
   "cell_type": "markdown",
   "id": "2faf091a-3435-4952-8cd7-7659074e0025",
   "metadata": {
    "id": "2faf091a-3435-4952-8cd7-7659074e0025"
   },
   "source": [
    "## 14 Repetir o procedimento de classificação descrito acima com cada valor de r. Gerar um gráfico de acurácia por número de autovalores."
   ]
  },
  {
   "cell_type": "code",
   "execution_count": 23,
   "id": "076c353b-dcf7-4c2b-8156-9a31cb5739c3",
   "metadata": {
    "id": "076c353b-dcf7-4c2b-8156-9a31cb5739c3"
   },
   "outputs": [],
   "source": [
    "# # comentada para não rodar novamente\n",
    "# # demora aproximadamente 1h30\n",
    "# # valores foram salvos em um txt: accuracy_list.txt\n",
    "\n",
    "# accuracy_list = []\n",
    "\n",
    "# # converter o array para np.float32 para acelerar os cálculos\n",
    "# # porém gera menos precisão\n",
    "# X_train = X_train.astype(np.float32)\n",
    "\n",
    "# for r in range(1024):\n",
    "#     Q_r = autovetores_cov_treino[:, :r+1].astype(np.float32)\n",
    "#     Z_train = componentes_principais(X_train)\n",
    "#     Z_test = componentes_principais(X_test)\n",
    "#     acuracia = run_knn_model()\n",
    "#     accuracy_list.append(acuracia)\n",
    "#     print(r+1) # para acompanhar em qual iteração está"
   ]
  },
  {
   "cell_type": "code",
   "execution_count": 24,
   "id": "35d6361f-f51c-4afd-a980-2b1b2f97bbab",
   "metadata": {
    "colab": {
     "base_uri": "https://localhost:8080/"
    },
    "id": "35d6361f-f51c-4afd-a980-2b1b2f97bbab",
    "outputId": "cbc0f3bd-1ef8-4b54-cc16-9a84350c2915"
   },
   "outputs": [],
   "source": [
    "# # salvando a lista em um arquivo com as acurácias\n",
    "# with open('accuracy_list.txt', 'w') as fp:\n",
    "#     for item in accuracy_list:\n",
    "#         fp.write(\"%s\\n\" % item)\n",
    "# print('Terminado')"
   ]
  },
  {
   "cell_type": "code",
   "execution_count": 25,
   "id": "e42fc108-3631-43d9-903b-d1134cb2acd7",
   "metadata": {
    "id": "e42fc108-3631-43d9-903b-d1134cb2acd7"
   },
   "outputs": [],
   "source": [
    "# lendo a lista\n",
    "\n",
    "accuracy_list = []\n",
    "\n",
    "with open('accuracy_list.txt', 'r') as fp:\n",
    "    for line in fp:\n",
    "        x = line[:-1]\n",
    "        accuracy_list.append(x)\n",
    "\n",
    "acuracia = [float(i) for i in accuracy_list]"
   ]
  },
  {
   "cell_type": "code",
   "execution_count": 26,
   "id": "5046ef41-b375-425e-8e84-6c803d60642b",
   "metadata": {
    "id": "5046ef41-b375-425e-8e84-6c803d60642b"
   },
   "outputs": [
    {
     "data": {
      "image/png": "[encoded data removed]",
      "text/plain": [
       "<Figure size 432x288 with 1 Axes>"
      ]
     },
     "metadata": {
      "needs_background": "light"
     },
     "output_type": "display_data"
    }
   ],
   "source": [
    "plt.plot(acuracia)\n",
    "plt.ylabel('Acurácia')\n",
    "plt.xlabel('Quantidade de Autovalores (r)')\n",
    "plt.title('Acurácia do KNN por Número de Autovalores')\n",
    "plt.tight_layout()\n",
    "plt.show()"
   ]
  },
  {
   "cell_type": "markdown",
   "id": "e4f77fd1-63f5-48ed-b508-651ed46afe1e",
   "metadata": {
    "id": "e4f77fd1-63f5-48ed-b508-651ed46afe1e"
   },
   "source": [
    "## 15 A partir do gráfico de acurácia por número de autovalores, repetir o procedimento de classificação para r correspondente ao melhor valor de acurácia."
   ]
  },
  {
   "cell_type": "code",
   "execution_count": 41,
   "id": "38d696ca-b14e-47c4-9080-3a709084abaa",
   "metadata": {},
   "outputs": [
    {
     "data": {
      "image/png": "[encoded data removed]",
      "text/plain": [
       "<Figure size 432x288 with 1 Axes>"
      ]
     },
     "metadata": {
      "needs_background": "light"
     },
     "output_type": "display_data"
    }
   ],
   "source": [
    "plt.plot(acuracia)\n",
    "plt.ylabel(f'Acurácia')\n",
    "plt.xlabel('Quantidade de Autovalores (r)')\n",
    "plt.title(f'Acurácia do KNN para r = 20: {acuracia[20]}')\n",
    "plt.axis([0, 100, 0.7, 0.8])\n",
    "\n",
    "plt.vlines(x=20, ymin=0.7, ymax=acuracia[20], colors='r', linestyles='dashed')\n",
    "plt.hlines(y=acuracia[20], xmin=0, xmax=20, colors='r', linestyles='dashed')\n",
    "\n",
    "plt.show()"
   ]
  },
  {
   "cell_type": "markdown",
   "id": "be2e6b11-15e1-4949-8626-70598dacdaf2",
   "metadata": {},
   "source": [
    "r = 20"
   ]
  },
  {
   "cell_type": "code",
   "execution_count": 43,
   "id": "ce74ccf4-f6db-4342-9e53-834abd5e690d",
   "metadata": {
    "id": "ce74ccf4-f6db-4342-9e53-834abd5e690d"
   },
   "outputs": [
    {
     "name": "stdout",
     "output_type": "stream",
     "text": [
      "Acurácia: 0.7785\n"
     ]
    }
   ],
   "source": [
    "r = 20\n",
    "Q_r = autovetores_cov_treino[:, :r+1]\n",
    "Z_train = componentes_principais(X_train)\n",
    "Z_test = componentes_principais(X_test)\n",
    "print(f'Acurácia: {run_knn_model()}')"
   ]
  },
  {
   "cell_type": "markdown",
   "id": "c70786bb-8de3-43d1-b4b1-b5478c9ae12a",
   "metadata": {
    "id": "c70786bb-8de3-43d1-b4b1-b5478c9ae12a"
   },
   "source": [
    "## 16 Calcular a SVD da matriz de dados de treinamento.\n",
    "\n",
    "Aqui o parâmetro `full_matrices` deve ser `False`, porque queremos a SVD reduzida."
   ]
  },
  {
   "cell_type": "code",
   "execution_count": 24,
   "id": "ef4719d6-d558-41ac-a21f-633734000126",
   "metadata": {
    "id": "ef4719d6-d558-41ac-a21f-633734000126"
   },
   "outputs": [],
   "source": [
    "# relendo os dados para limpar as variáveis\n",
    "dados = pd.read_parquet(\"https://github.com/diascarolina/fundamentos-analise-dados/blob/main/trabalho02_classificacao/df_total.parquet?raw=true\")\n",
    "dados = dados.sample(frac=1, random_state=12).reset_index(drop=True)\n",
    "\n",
    "X = dados.drop(['arquivo', 'classe'], axis=1)\n",
    "y = dados['classe']\n",
    "\n",
    "X_train, X_test, y_train, y_test = train_test_split(X,\n",
    "                                                    y,\n",
    "                                                    test_size=0.3,\n",
    "                                                    random_state=12)\n",
    "\n",
    "X_train = X_train.to_numpy()\n",
    "X_test = X_test.to_numpy()\n",
    "y_train = y_train.to_numpy()\n",
    "y_test = y_test.to_numpy()\n",
    "\n",
    "X_train = center_matrix(X_train)\n",
    "X_test = center_matrix(X_test)"
   ]
  },
  {
   "cell_type": "code",
   "execution_count": 25,
   "id": "938854d4-26aa-4a24-bbf3-582cf18528c3",
   "metadata": {
    "id": "938854d4-26aa-4a24-bbf3-582cf18528c3"
   },
   "outputs": [],
   "source": [
    "U, S, VT = np.linalg.svd(X_train, full_matrices=False)"
   ]
  },
  {
   "cell_type": "code",
   "execution_count": 26,
   "id": "e08b71a2-4263-4f41-8698-99dd8497a8b7",
   "metadata": {
    "colab": {
     "base_uri": "https://localhost:8080/"
    },
    "id": "e08b71a2-4263-4f41-8698-99dd8497a8b7",
    "outputId": "5bb8f194-35bd-4963-8df5-9a3537dd79b8"
   },
   "outputs": [
    {
     "data": {
      "text/plain": [
       "True"
      ]
     },
     "execution_count": 26,
     "metadata": {},
     "output_type": "execute_result"
    }
   ],
   "source": [
    "# conferir o cálculo, deve ser True\n",
    "np.allclose(X_train, np.dot(U * S, VT))"
   ]
  },
  {
   "cell_type": "markdown",
   "id": "6d921f40-6be0-49bc-b81d-81e4cd3d978b",
   "metadata": {
    "id": "6d921f40-6be0-49bc-b81d-81e4cd3d978b"
   },
   "source": [
    "## 17 Repetir os passos de 7 a 15, adaptando-os previamente da Decomposição Espectral para a SVD."
   ]
  },
  {
   "cell_type": "markdown",
   "id": "5c8e03aa-a98a-4381-a69b-f2ad6c54529b",
   "metadata": {
    "id": "5c8e03aa-a98a-4381-a69b-f2ad6c54529b"
   },
   "source": [
    "## 17.7 Ordenar os autovalores da matriz de covariância dos dados em ordem decrescente.\n",
    "\n",
    "## 17.8 Ordenar as colunas de Q de acordo com a ordenação dos autovalores feita no item anterior."
   ]
  },
  {
   "cell_type": "markdown",
   "id": "0ba1c7c1-d0ba-4bcf-af19-2c30a70a4407",
   "metadata": {
    "id": "0ba1c7c1-d0ba-4bcf-af19-2c30a70a4407"
   },
   "source": [
    "Os valores singulares já vem em [ordem decrescente](https://numpy.org/doc/stable/reference/generated/numpy.linalg.svd.html#:~:text=sorted%20in%20descending%20order) em S."
   ]
  },
  {
   "cell_type": "code",
   "execution_count": 27,
   "id": "1d4171bf-8134-40d0-902d-ed526a5bffb9",
   "metadata": {
    "id": "1d4171bf-8134-40d0-902d-ed526a5bffb9"
   },
   "outputs": [],
   "source": [
    "valores_singulares_treino_svd = S\n",
    "# para obter os autovalores, elevamos os sigmas ao quadrado\n",
    "autovalores_treino_svd = np.square(S)\n",
    "autovetores_treino_svd = VT.T"
   ]
  },
  {
   "cell_type": "markdown",
   "id": "b4b5e44f-0201-4032-bc29-473700f83fa8",
   "metadata": {
    "id": "b4b5e44f-0201-4032-bc29-473700f83fa8"
   },
   "source": [
    "## 17.9 Gerar o gráfico de variabilidade acumulada (no eixo das ordenadas) por número de autovalores (no eixo das abscissas)."
   ]
  },
  {
   "cell_type": "code",
   "execution_count": 28,
   "id": "41ee353e-5945-4143-8e11-5140b5bb434b",
   "metadata": {
    "colab": {
     "base_uri": "https://localhost:8080/",
     "height": 297
    },
    "id": "41ee353e-5945-4143-8e11-5140b5bb434b",
    "outputId": "e2528153-a9bc-4264-c4cf-3141eb6a6361"
   },
   "outputs": [
    {
     "data": {
      "image/png": "[encoded data removed]",
      "text/plain": [
       "<Figure size 432x288 with 1 Axes>"
      ]
     },
     "metadata": {
      "needs_background": "light"
     },
     "output_type": "display_data"
    }
   ],
   "source": [
    "soma_autovalores_svd = sum(autovalores_treino_svd)\n",
    "var_exp_svd = [(i/soma_autovalores_svd) for i in autovalores_treino_svd]\n",
    "variabilidade_acumulada_svd = np.cumsum(var_exp_svd)\n",
    "\n",
    "plt.step(range(0, len(variabilidade_acumulada_svd)), variabilidade_acumulada_svd, where='mid')\n",
    "plt.ylabel('Variabilidade Acumulada (SVD)')\n",
    "plt.xlabel('Índice do Autovalor (r)')\n",
    "plt.title('Variabilidade Acumulada por Autovalores')\n",
    "plt.tight_layout()\n",
    "plt.show()"
   ]
  },
  {
   "cell_type": "markdown",
   "id": "ca21fe08-c553-45c8-a996-1481af319283",
   "metadata": {
    "id": "ca21fe08-c553-45c8-a996-1481af319283"
   },
   "source": [
    "## 17.10 A partir do gráfico gerado no item anterior, determinar o valor de r, buscando uma solução de compromisso entre um alto valor de variabilidade e um baixo valor de autovalores."
   ]
  },
  {
   "cell_type": "code",
   "execution_count": 29,
   "id": "59045aa0-03ff-4363-ab89-93794c2290f9",
   "metadata": {
    "colab": {
     "base_uri": "https://localhost:8080/"
    },
    "id": "59045aa0-03ff-4363-ab89-93794c2290f9",
    "outputId": "d08d3db4-c6b8-485e-c894-8fa34352e0b5"
   },
   "outputs": [
    {
     "data": {
      "text/plain": [
       "0.95"
      ]
     },
     "execution_count": 29,
     "metadata": {},
     "output_type": "execute_result"
    }
   ],
   "source": [
    "r = 185\n",
    "variabilidade_acumulada_svd_r = round(variabilidade_acumulada_svd[r], 2)\n",
    "variabilidade_acumulada_svd_r"
   ]
  },
  {
   "cell_type": "code",
   "execution_count": 30,
   "id": "6f1d2b5b-c5f0-48df-bd72-9e4ba29e6799",
   "metadata": {
    "colab": {
     "base_uri": "https://localhost:8080/",
     "height": 297
    },
    "id": "6f1d2b5b-c5f0-48df-bd72-9e4ba29e6799",
    "outputId": "bd4ffe89-e094-4f72-a698-94750a64b6f5"
   },
   "outputs": [
    {
     "data": {
      "image/png": "[encoded data removed]",
      "text/plain": [
       "<Figure size 432x288 with 1 Axes>"
      ]
     },
     "metadata": {
      "needs_background": "light"
     },
     "output_type": "display_data"
    }
   ],
   "source": [
    "plt.step(range(0, len(variabilidade_acumulada_svd)), variabilidade_acumulada_svd, where='mid')\n",
    "plt.ylabel('Variabilidade Acumulada (SVD)')\n",
    "plt.xlabel('Índice do Autovalor (r)')\n",
    "plt.title('Variabilidade Acumulada para r = 185')\n",
    "plt.axis([100, 250, 0.8, 1.0])\n",
    "\n",
    "plt.vlines(x=r, ymin=0.8, ymax=variabilidade_acumulada_svd[r], colors='r',linestyles='dashed')\n",
    "plt.hlines(y=variabilidade_acumulada_svd[r], xmin=70, xmax=r, colors='k',linestyles='dashed')\n",
    "\n",
    "plt.tight_layout()\n",
    "plt.show()"
   ]
  },
  {
   "cell_type": "markdown",
   "id": "721d8196-56b6-4f1c-a0a6-05352a77adc5",
   "metadata": {
    "id": "721d8196-56b6-4f1c-a0a6-05352a77adc5"
   },
   "source": [
    "## 17.11 Utilizando o valor de r escolhido no item anterior, calcular a matriz $\\hat V$ $n \\times r$, cujas colunas são as r primeiras colunas de V."
   ]
  },
  {
   "cell_type": "code",
   "execution_count": 31,
   "id": "606a9cfd-c43c-47fb-88e7-2fb9b4a43dc5",
   "metadata": {
    "id": "606a9cfd-c43c-47fb-88e7-2fb9b4a43dc5"
   },
   "outputs": [],
   "source": [
    "V_r = autovetores_treino_svd[:, :r]"
   ]
  },
  {
   "cell_type": "markdown",
   "id": "eb697cf5-cbcf-4359-9ff4-569546368c28",
   "metadata": {
    "id": "eb697cf5-cbcf-4359-9ff4-569546368c28"
   },
   "source": [
    "## 17.12 Para o valor de r escolhido, calcular as componentes principais dos dados de treinamento e de teste."
   ]
  },
  {
   "cell_type": "code",
   "execution_count": 32,
   "id": "FOsrN32pX8dV",
   "metadata": {
    "id": "FOsrN32pX8dV"
   },
   "outputs": [],
   "source": [
    "def componentes_principais_svd(matriz):\n",
    "    return np.matmul(matriz, V_r)"
   ]
  },
  {
   "cell_type": "code",
   "execution_count": 33,
   "id": "2657cdaf-6dc9-4834-81a1-d44a365802b7",
   "metadata": {
    "id": "2657cdaf-6dc9-4834-81a1-d44a365802b7"
   },
   "outputs": [],
   "source": [
    "Z_train = componentes_principais_svd(X_train)\n",
    "Z_test = componentes_principais_svd(X_test)"
   ]
  },
  {
   "cell_type": "markdown",
   "id": "c7f0c402-5387-4886-b876-7db29d4efecf",
   "metadata": {
    "id": "c7f0c402-5387-4886-b876-7db29d4efecf"
   },
   "source": [
    "## 17.13 Utilizando as equações do item anterior, o algoritmo de classificação do vizinho mais próximo (K-NN, com k = 1) e a distância euclidiana, classificar os dados de teste. Calcular a acurácia."
   ]
  },
  {
   "cell_type": "code",
   "execution_count": 34,
   "id": "1da5ecb3-b28e-48eb-a3e5-6035478eb70d",
   "metadata": {
    "colab": {
     "base_uri": "https://localhost:8080/"
    },
    "id": "1da5ecb3-b28e-48eb-a3e5-6035478eb70d",
    "outputId": "0397d310-bd60-4388-c515-6f14e190fd9e"
   },
   "outputs": [
    {
     "name": "stdout",
     "output_type": "stream",
     "text": [
      "Acurácia: 0.93825\n"
     ]
    }
   ],
   "source": [
    "print(f'Acurácia: {run_knn_model()}')"
   ]
  },
  {
   "cell_type": "markdown",
   "id": "949b1b42-b5b1-4f9b-a368-0c7f8b96d36b",
   "metadata": {
    "id": "949b1b42-b5b1-4f9b-a368-0c7f8b96d36b"
   },
   "source": [
    "## 17.14 Repetir o procedimento de classificação descrito acima com cada valor de r. Gerar um gráfico de acurácia por número de autovalores."
   ]
  },
  {
   "cell_type": "code",
   "execution_count": 36,
   "id": "74361942-2933-4492-b6eb-7b8d6cf242d0",
   "metadata": {
    "colab": {
     "base_uri": "https://localhost:8080/"
    },
    "id": "74361942-2933-4492-b6eb-7b8d6cf242d0",
    "outputId": "2e17fd62-506a-4a42-e000-237016a3ac5d"
   },
   "outputs": [
    {
     "name": "stdout",
     "output_type": "stream",
     "text": [
      "1\n",
      "2\n",
      "3\n",
      "4\n",
      "5\n",
      "6\n",
      "7\n",
      "8\n",
      "9\n",
      "10\n"
     ]
    }
   ],
   "source": [
    "# comentada para não rodar novamente\n",
    "# demora aproximadamente 1h30\n",
    "# valores foram salvos em um txt: accuracy_list_svd.txt\n",
    "\n",
    "accuracy_list_svd = []\n",
    "\n",
    "# converter o array para np.float32 para acelerar os cálculos\n",
    "# porém gera menos precisão\n",
    "X_train = X_train.astype(np.float32)\n",
    "\n",
    "for r in range(1024):\n",
    "    V_r = autovetores_treino_svd[:, :r+1].astype(np.float32)\n",
    "    Z_train = componentes_principais_svd(X_train)\n",
    "    Z_test = componentes_principais_svd(X_test)\n",
    "    acuracia_svd = run_knn_model()\n",
    "    accuracy_list_svd.append(acuracia_svd)\n",
    "    print(r+1) # para acompanhar em qual iteração está"
   ]
  },
  {
   "cell_type": "code",
   "execution_count": null,
   "id": "f50e97e7-f415-4277-845b-70152f58e313",
   "metadata": {
    "id": "f50e97e7-f415-4277-845b-70152f58e313"
   },
   "outputs": [],
   "source": [
    "# salvando a lista em um arquivo com as acurácias\n",
    "with open('accuracy_list_svd.txt', 'w') as fp:\n",
    "    for item in accuracy_list_svd:\n",
    "        fp.write(\"%s\\n\" % item)\n",
    "print('Terminado')"
   ]
  },
  {
   "cell_type": "code",
   "execution_count": null,
   "id": "b12c4674-677d-4b31-8b3e-905acded9857",
   "metadata": {
    "id": "b12c4674-677d-4b31-8b3e-905acded9857"
   },
   "outputs": [],
   "source": [
    "# lendo a lista\n",
    "\n",
    "accuracy_list_svd = []\n",
    "\n",
    "with open('accuracy_list_svd.txt', 'r') as fp:\n",
    "    for line in fp:\n",
    "        x = line[:-1]\n",
    "        accuracy_list_svd.append(x)\n",
    "\n",
    "accuracy_svd = [float(i) for i in accuracy_list_svd]"
   ]
  },
  {
   "cell_type": "code",
   "execution_count": null,
   "id": "5675c948-1d2b-458e-a759-3c9f2267a591",
   "metadata": {
    "id": "5675c948-1d2b-458e-a759-3c9f2267a591"
   },
   "outputs": [],
   "source": [
    "plt.plot(accuracy_svd)\n",
    "plt.ylabel('Acurácia')\n",
    "plt.xlabel('Quantidade de Autovalores (r)')\n",
    "plt.title('Acurácia do KNN por Número de Autovalores')\n",
    "plt.tight_layout()\n",
    "plt.show()"
   ]
  },
  {
   "cell_type": "markdown",
   "id": "db25c0a5-4955-4e60-adb0-a66169e882b5",
   "metadata": {
    "id": "db25c0a5-4955-4e60-adb0-a66169e882b5"
   },
   "source": [
    "## 17.15 A partir do gráfico de acurácia por número de autovalores, repetir o procedimento de classificação para r correspondente ao melhor valor de acurácia."
   ]
  },
  {
   "cell_type": "code",
   "execution_count": null,
   "id": "285a6114-c6ad-4d8c-a201-c61fa2aa7d7c",
   "metadata": {
    "id": "285a6114-c6ad-4d8c-a201-c61fa2aa7d7c"
   },
   "outputs": [],
   "source": []
  }
 ],
 "metadata": {
  "colab": {
   "collapsed_sections": [
    "6d921f40-6be0-49bc-b81d-81e4cd3d978b"
   ],
   "name": "t02_SVD_prediction.ipynb",
   "provenance": []
  },
  "kernelspec": {
   "display_name": "Python 3 (ipykernel)",
   "language": "python",
   "name": "python3"
  },
  "language_info": {
   "codemirror_mode": {
    "name": "ipython",
    "version": 3
   },
   "file_extension": ".py",
   "mimetype": "text/x-python",
   "name": "python",
   "nbconvert_exporter": "python",
   "pygments_lexer": "ipython3",
   "version": "3.8.10"
  }
 },
 "nbformat": 4,
 "nbformat_minor": 5
}
