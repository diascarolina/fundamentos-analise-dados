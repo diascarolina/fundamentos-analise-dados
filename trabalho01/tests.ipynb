{
 "cells": [
  {
   "cell_type": "markdown",
   "id": "db6b2630-e468-4666-8961-f321dbb2b1f2",
   "metadata": {
    "tags": []
   },
   "source": [
    "# Fundamentos de Análise de Dados 2022.1\n",
    "\n",
    "# Dataset\n",
    "\n",
    "_Naval Propulsion Plants_: regressão múltipla (2 variáveis de saída), estimar cada variável de saída separadamente:\n",
    "- 11934 amostras;\n",
    "- 16 características reais;\n",
    "- 2 características reais para estimar, mas estimar somente _GT Compressor decay state coecient_ (remover _GT Turbine decay state coecient_).\n",
    "\n",
    "# 01. Fazer o _download_ do respectivo banco de dados.\n",
    "\n",
    "Link: http://archive.ics.uci.edu/ml/datasets/condition+based+maintenance+of+naval+propulsion+plants\n",
    "\n",
    "Após feito o download, os dados foram salvos em _\"../data/naval_data.txt\"_."
   ]
  },
  {
   "cell_type": "markdown",
   "id": "7e61592c-acac-4c42-8cdd-927f152a5997",
   "metadata": {},
   "source": [
    "# 02. Fazer a leitura dos dados."
   ]
  },
  {
   "cell_type": "code",
   "execution_count": 1,
   "id": "2f741cdf-d2f8-4d05-90d3-38d7350bafca",
   "metadata": {},
   "outputs": [],
   "source": [
    "import numpy as np\n",
    "import pandas as pd\n",
    "from sklearn.model_selection import train_test_split"
   ]
  },
  {
   "cell_type": "code",
   "execution_count": 3,
   "id": "b362e88e-ee8d-4c3e-952c-522b79f464a6",
   "metadata": {},
   "outputs": [],
   "source": [
    "column_names = [\n",
    "    \"Lever position\",\n",
    "    \"Ship speed\",\n",
    "    \"Gas Turbine shaft torque\",\n",
    "    \"GT rate of revolutions\",\n",
    "    \"Gas Generator rate of revolutions\",\n",
    "    \"Starboard Propeller Torque\",\n",
    "    \"Port Propeller Torque\",\n",
    "    \"Hight Pressure Turbine exit temperature\",\n",
    "    \"GT Compressor inlet air temperature\",\n",
    "    \"GT Compressor outlet air temperature\",\n",
    "    \"HP Turbine exit pressure\",\n",
    "    \"GT Compressor inlet air pressure\",\n",
    "    \"GT Compressor outlet air pressure\",\n",
    "    \"GT exhaust gas pressure\",\n",
    "    \"Turbine Injecton Control\",\n",
    "    \"Fuel flow\",\n",
    "    \"GT Compressor decay state coefficient\",\n",
    "    \"GT Turbine decay state coefficient\"\n",
    "]"
   ]
  },
  {
   "cell_type": "code",
   "execution_count": 4,
   "id": "a2793d64-c39a-4805-9528-5e6650ba5354",
   "metadata": {},
   "outputs": [],
   "source": [
    "# read data using read_csv\n",
    "# raw_data = pd.read_csv(\"data/naval_data.txt\", sep=\"   \", header=None, engine='python')\n",
    "\n",
    "# read data using read_fwf\n",
    "raw_data = pd.read_fwf(\"../data/naval_data.txt\", header=None)\n",
    "raw_data.columns = column_names"
   ]
  },
  {
   "cell_type": "code",
   "execution_count": 5,
   "id": "40d8d716-cd4c-4aab-bb07-e394efea3134",
   "metadata": {},
   "outputs": [
    {
     "data": {
      "text/html": [
       "<div>\n",
       "<style scoped>\n",
       "    .dataframe tbody tr th:only-of-type {\n",
       "        vertical-align: middle;\n",
       "    }\n",
       "\n",
       "    .dataframe tbody tr th {\n",
       "        vertical-align: top;\n",
       "    }\n",
       "\n",
       "    .dataframe thead th {\n",
       "        text-align: right;\n",
       "    }\n",
       "</style>\n",
       "<table border=\"1\" class=\"dataframe\">\n",
       "  <thead>\n",
       "    <tr style=\"text-align: right;\">\n",
       "      <th></th>\n",
       "      <th>Lever position</th>\n",
       "      <th>Ship speed</th>\n",
       "      <th>Gas Turbine shaft torque</th>\n",
       "      <th>GT rate of revolutions</th>\n",
       "      <th>Gas Generator rate of revolutions</th>\n",
       "      <th>Starboard Propeller Torque</th>\n",
       "      <th>Port Propeller Torque</th>\n",
       "      <th>Hight Pressure Turbine exit temperature</th>\n",
       "      <th>GT Compressor inlet air temperature</th>\n",
       "      <th>GT Compressor outlet air temperature</th>\n",
       "      <th>HP Turbine exit pressure</th>\n",
       "      <th>GT Compressor inlet air pressure</th>\n",
       "      <th>GT Compressor outlet air pressure</th>\n",
       "      <th>GT exhaust gas pressure</th>\n",
       "      <th>Turbine Injecton Control</th>\n",
       "      <th>Fuel flow</th>\n",
       "      <th>GT Compressor decay state coefficient</th>\n",
       "      <th>GT Turbine decay state coefficient</th>\n",
       "    </tr>\n",
       "  </thead>\n",
       "  <tbody>\n",
       "    <tr>\n",
       "      <th>0</th>\n",
       "      <td>1.138</td>\n",
       "      <td>3.0</td>\n",
       "      <td>289.964</td>\n",
       "      <td>1349.489</td>\n",
       "      <td>6677.380</td>\n",
       "      <td>7.584</td>\n",
       "      <td>7.584</td>\n",
       "      <td>464.006</td>\n",
       "      <td>288.0</td>\n",
       "      <td>550.563</td>\n",
       "      <td>1.096</td>\n",
       "      <td>0.998</td>\n",
       "      <td>5.947</td>\n",
       "      <td>1.019</td>\n",
       "      <td>7.137</td>\n",
       "      <td>0.082</td>\n",
       "      <td>0.95</td>\n",
       "      <td>0.975</td>\n",
       "    </tr>\n",
       "    <tr>\n",
       "      <th>1</th>\n",
       "      <td>2.088</td>\n",
       "      <td>6.0</td>\n",
       "      <td>6960.180</td>\n",
       "      <td>1376.166</td>\n",
       "      <td>6828.469</td>\n",
       "      <td>28.204</td>\n",
       "      <td>28.204</td>\n",
       "      <td>635.401</td>\n",
       "      <td>288.0</td>\n",
       "      <td>581.658</td>\n",
       "      <td>1.331</td>\n",
       "      <td>0.998</td>\n",
       "      <td>7.282</td>\n",
       "      <td>1.019</td>\n",
       "      <td>10.655</td>\n",
       "      <td>0.287</td>\n",
       "      <td>0.95</td>\n",
       "      <td>0.975</td>\n",
       "    </tr>\n",
       "    <tr>\n",
       "      <th>2</th>\n",
       "      <td>3.144</td>\n",
       "      <td>9.0</td>\n",
       "      <td>8379.229</td>\n",
       "      <td>1386.757</td>\n",
       "      <td>7111.811</td>\n",
       "      <td>60.358</td>\n",
       "      <td>60.358</td>\n",
       "      <td>606.002</td>\n",
       "      <td>288.0</td>\n",
       "      <td>587.587</td>\n",
       "      <td>1.389</td>\n",
       "      <td>0.998</td>\n",
       "      <td>7.574</td>\n",
       "      <td>1.020</td>\n",
       "      <td>13.086</td>\n",
       "      <td>0.259</td>\n",
       "      <td>0.95</td>\n",
       "      <td>0.975</td>\n",
       "    </tr>\n",
       "    <tr>\n",
       "      <th>3</th>\n",
       "      <td>4.161</td>\n",
       "      <td>12.0</td>\n",
       "      <td>14724.395</td>\n",
       "      <td>1547.465</td>\n",
       "      <td>7792.630</td>\n",
       "      <td>113.774</td>\n",
       "      <td>113.774</td>\n",
       "      <td>661.471</td>\n",
       "      <td>288.0</td>\n",
       "      <td>613.851</td>\n",
       "      <td>1.658</td>\n",
       "      <td>0.998</td>\n",
       "      <td>9.007</td>\n",
       "      <td>1.022</td>\n",
       "      <td>18.109</td>\n",
       "      <td>0.358</td>\n",
       "      <td>0.95</td>\n",
       "      <td>0.975</td>\n",
       "    </tr>\n",
       "    <tr>\n",
       "      <th>4</th>\n",
       "      <td>5.140</td>\n",
       "      <td>15.0</td>\n",
       "      <td>21636.432</td>\n",
       "      <td>1924.313</td>\n",
       "      <td>8494.777</td>\n",
       "      <td>175.306</td>\n",
       "      <td>175.306</td>\n",
       "      <td>731.494</td>\n",
       "      <td>288.0</td>\n",
       "      <td>645.642</td>\n",
       "      <td>2.078</td>\n",
       "      <td>0.998</td>\n",
       "      <td>11.197</td>\n",
       "      <td>1.026</td>\n",
       "      <td>26.373</td>\n",
       "      <td>0.522</td>\n",
       "      <td>0.95</td>\n",
       "      <td>0.975</td>\n",
       "    </tr>\n",
       "  </tbody>\n",
       "</table>\n",
       "</div>"
      ],
      "text/plain": [
       "   Lever position  Ship speed  Gas Turbine shaft torque  \\\n",
       "0           1.138         3.0                   289.964   \n",
       "1           2.088         6.0                  6960.180   \n",
       "2           3.144         9.0                  8379.229   \n",
       "3           4.161        12.0                 14724.395   \n",
       "4           5.140        15.0                 21636.432   \n",
       "\n",
       "   GT rate of revolutions  Gas Generator rate of revolutions  \\\n",
       "0                1349.489                           6677.380   \n",
       "1                1376.166                           6828.469   \n",
       "2                1386.757                           7111.811   \n",
       "3                1547.465                           7792.630   \n",
       "4                1924.313                           8494.777   \n",
       "\n",
       "   Starboard Propeller Torque  Port Propeller Torque  \\\n",
       "0                       7.584                  7.584   \n",
       "1                      28.204                 28.204   \n",
       "2                      60.358                 60.358   \n",
       "3                     113.774                113.774   \n",
       "4                     175.306                175.306   \n",
       "\n",
       "   Hight Pressure Turbine exit temperature  \\\n",
       "0                                  464.006   \n",
       "1                                  635.401   \n",
       "2                                  606.002   \n",
       "3                                  661.471   \n",
       "4                                  731.494   \n",
       "\n",
       "   GT Compressor inlet air temperature  GT Compressor outlet air temperature  \\\n",
       "0                                288.0                               550.563   \n",
       "1                                288.0                               581.658   \n",
       "2                                288.0                               587.587   \n",
       "3                                288.0                               613.851   \n",
       "4                                288.0                               645.642   \n",
       "\n",
       "   HP Turbine exit pressure  GT Compressor inlet air pressure  \\\n",
       "0                     1.096                             0.998   \n",
       "1                     1.331                             0.998   \n",
       "2                     1.389                             0.998   \n",
       "3                     1.658                             0.998   \n",
       "4                     2.078                             0.998   \n",
       "\n",
       "   GT Compressor outlet air pressure  GT exhaust gas pressure  \\\n",
       "0                              5.947                    1.019   \n",
       "1                              7.282                    1.019   \n",
       "2                              7.574                    1.020   \n",
       "3                              9.007                    1.022   \n",
       "4                             11.197                    1.026   \n",
       "\n",
       "   Turbine Injecton Control  Fuel flow  GT Compressor decay state coefficient  \\\n",
       "0                     7.137      0.082                                   0.95   \n",
       "1                    10.655      0.287                                   0.95   \n",
       "2                    13.086      0.259                                   0.95   \n",
       "3                    18.109      0.358                                   0.95   \n",
       "4                    26.373      0.522                                   0.95   \n",
       "\n",
       "   GT Turbine decay state coefficient  \n",
       "0                               0.975  \n",
       "1                               0.975  \n",
       "2                               0.975  \n",
       "3                               0.975  \n",
       "4                               0.975  "
      ]
     },
     "execution_count": 5,
     "metadata": {},
     "output_type": "execute_result"
    }
   ],
   "source": [
    "raw_data.head()"
   ]
  },
  {
   "cell_type": "code",
   "execution_count": 8,
   "id": "ad86eb92-34de-4c3e-89f6-f773a7cb4e50",
   "metadata": {
    "collapsed": true,
    "jupyter": {
     "outputs_hidden": true,
     "source_hidden": true
    },
    "tags": []
   },
   "outputs": [
    {
     "data": {
      "text/plain": [
       "array([[1.1380000e+00, 3.0000000e+00, 2.8996400e+02, ..., 8.2000000e-02,\n",
       "        9.5000000e-01, 9.7500000e-01],\n",
       "       [2.0880000e+00, 6.0000000e+00, 6.9601800e+03, ..., 2.8700000e-01,\n",
       "        9.5000000e-01, 9.7500000e-01],\n",
       "       [3.1440000e+00, 9.0000000e+00, 8.3792290e+03, ..., 2.5900000e-01,\n",
       "        9.5000000e-01, 9.7500000e-01],\n",
       "       ...,\n",
       "       [7.1480000e+00, 2.1000000e+01, 3.9003867e+04, ..., 8.3400000e-01,\n",
       "        1.0000000e+00, 1.0000000e+00],\n",
       "       [8.2060000e+00, 2.4000000e+01, 5.0992579e+04, ..., 1.1490000e+00,\n",
       "        1.0000000e+00, 1.0000000e+00],\n",
       "       [9.3000000e+00, 2.7000000e+01, 7.2775130e+04, ..., 1.7040000e+00,\n",
       "        1.0000000e+00, 1.0000000e+00]])"
      ]
     },
     "execution_count": 8,
     "metadata": {},
     "output_type": "execute_result"
    }
   ],
   "source": [
    "# convert the DataFrame into a Numpy array\n",
    "naval_array = raw_data.to_numpy()\n",
    "naval_array"
   ]
  },
  {
   "cell_type": "markdown",
   "id": "41f5ffe9-f935-4f08-9b70-0aeb8ee6bb85",
   "metadata": {},
   "source": [
    "# 03. Se necessário, dividir os dados em conjunto de treinamento (70%) e teste (30%), utilizando a função apropriada do scikit-learn. Quatro NumPy arrays devem ser criados: X_train, y_train, X_test e y_test."
   ]
  },
  {
   "cell_type": "code",
   "execution_count": 9,
   "id": "11e8ff36-87e3-4751-9598-9fd9a29572ec",
   "metadata": {},
   "outputs": [
    {
     "name": "stdout",
     "output_type": "stream",
     "text": [
      "(11934, 17)\n"
     ]
    },
    {
     "data": {
      "text/plain": [
       "(11934, 16)"
      ]
     },
     "execution_count": 9,
     "metadata": {},
     "output_type": "execute_result"
    }
   ],
   "source": [
    "data = raw_data.copy()\n",
    "data.drop([\"GT Turbine decay state coefficient\"],\n",
    "          axis=1,\n",
    "          inplace=True)\n",
    "\n",
    "print(data.shape)\n",
    "\n",
    "X = data.drop([\"GT Compressor decay state coefficient\"],\n",
    "              axis=1)\n",
    "\n",
    "y = data[[\"GT Compressor decay state coefficient\"]]\n",
    "\n",
    "X.shape"
   ]
  },
  {
   "cell_type": "code",
   "execution_count": 10,
   "id": "56bbd3b5-4c9d-4916-b9af-a4c7c0bafd1f",
   "metadata": {},
   "outputs": [],
   "source": [
    "X_train, X_test, y_train, y_test = train_test_split(X, y, test_size=0.3, random_state=12)"
   ]
  },
  {
   "cell_type": "code",
   "execution_count": 11,
   "id": "24418155-29e8-4966-baaf-bdc2f5284274",
   "metadata": {},
   "outputs": [],
   "source": [
    "X_train = X_train.to_numpy()\n",
    "X_test = X_test.to_numpy()\n",
    "y_train = y_train.to_numpy()\n",
    "y_test = y_test.to_numpy()"
   ]
  },
  {
   "cell_type": "markdown",
   "id": "62b35d7b-1053-444a-b8ae-2910474ccbe6",
   "metadata": {},
   "source": [
    "# 04. Acrescentar uma coluna de 1s ([1 1 . . . 1]^T) como última coluna da matriz de treinamento Xtrain (vamos chamá-la de X_train_2). Repita o procedimento para a matriz de teste, chamando-a de X_test_2."
   ]
  },
  {
   "cell_type": "markdown",
   "id": "3976fb4d-abcf-4a5c-a59c-cdfaef310297",
   "metadata": {},
   "source": [
    "[StackOverflow: How to add an extra column to a NumPy array](https://stackoverflow.com/questions/8486294/how-to-add-an-extra-column-to-a-numpy-array)"
   ]
  },
  {
   "cell_type": "code",
   "execution_count": 11,
   "id": "a3fd0bb2-eabf-48ed-8c97-0d5f1eee1cc2",
   "metadata": {},
   "outputs": [
    {
     "data": {
      "text/plain": [
       "(8353, 16)"
      ]
     },
     "execution_count": 11,
     "metadata": {},
     "output_type": "execute_result"
    }
   ],
   "source": [
    "X_train.shape"
   ]
  },
  {
   "cell_type": "code",
   "execution_count": 13,
   "id": "e532a689-bbfa-45a1-967a-648d85063d29",
   "metadata": {},
   "outputs": [],
   "source": [
    "def add_ones_column(data_array: np.array) -> np.array:\n",
    "    length = data_array.shape[0]\n",
    "    return np.c_[data_array, np.ones(length)]"
   ]
  },
  {
   "cell_type": "markdown",
   "id": "1e206914-f461-4d7d-9b1c-0be2a1ac30ff",
   "metadata": {},
   "source": [
    "# 05. Calcular o posto das matrizes X_train_2 e X_test_2. Se necessário, ajustar as matrizes X_train_2 e X_test_2."
   ]
  },
  {
   "cell_type": "code",
   "execution_count": 14,
   "id": "c892a534-d8cb-41c1-91bc-66f94df5e347",
   "metadata": {},
   "outputs": [
    {
     "data": {
      "text/plain": [
       "14"
      ]
     },
     "execution_count": 14,
     "metadata": {},
     "output_type": "execute_result"
    }
   ],
   "source": [
    "np.linalg.matrix_rank(add_ones_column(X_train))"
   ]
  },
  {
   "cell_type": "code",
   "execution_count": 17,
   "id": "c3574051-cd66-4c43-bb68-98c5312beb1b",
   "metadata": {},
   "outputs": [
    {
     "data": {
      "text/plain": [
       "14"
      ]
     },
     "execution_count": 17,
     "metadata": {},
     "output_type": "execute_result"
    }
   ],
   "source": [
    "np.linalg.matrix_rank(add_ones_column(X_test))"
   ]
  },
  {
   "cell_type": "code",
   "execution_count": 16,
   "id": "ab8e4996-82a9-4e2b-b58d-17cfa5c89045",
   "metadata": {},
   "outputs": [
    {
     "data": {
      "text/plain": [
       "(8353, 17)"
      ]
     },
     "execution_count": 16,
     "metadata": {},
     "output_type": "execute_result"
    }
   ],
   "source": [
    "add_ones_column(X_train).shape"
   ]
  },
  {
   "cell_type": "markdown",
   "id": "2bcec53a-13b6-4996-8889-3cd4204b848c",
   "metadata": {},
   "source": [
    "# 06. Calcular a decomposição QR da matriz de treinamento: X_train_2 = QR, usando a função do NumPy apropriada."
   ]
  },
  {
   "cell_type": "code",
   "execution_count": 18,
   "id": "bb4a0b2e-3320-4feb-8362-444b0ceb205c",
   "metadata": {},
   "outputs": [],
   "source": [
    "Q, R = np.linalg.qr(add_ones_column(X_train))"
   ]
  },
  {
   "cell_type": "code",
   "execution_count": 19,
   "id": "98bbe741-5a9a-4b72-871a-8c938c0ddad5",
   "metadata": {},
   "outputs": [],
   "source": [
    "coefs_lineares = np.linalg.solve(R, np.dot(Q.T, y_train))"
   ]
  },
  {
   "cell_type": "code",
   "execution_count": 43,
   "id": "ef4f7628-9347-4a15-85a8-513bf2b3f0a8",
   "metadata": {},
   "outputs": [
    {
     "data": {
      "text/plain": [
       "array([ True,  True,  True,  True,  True,  True, False,  True,  True,\n",
       "        True,  True, False,  True,  True,  True,  True, False])"
      ]
     },
     "execution_count": 43,
     "metadata": {},
     "output_type": "execute_result"
    }
   ],
   "source": [
    "independent_vectors = np.abs(np.diag(R))>=1e-12\n",
    "independent_vectors"
   ]
  },
  {
   "cell_type": "code",
   "execution_count": 46,
   "id": "8d34d97d-cf1b-4e60-bae4-677545ea8f7e",
   "metadata": {},
   "outputs": [
    {
     "data": {
      "text/plain": [
       "True"
      ]
     },
     "execution_count": 46,
     "metadata": {},
     "output_type": "execute_result"
    }
   ],
   "source": [
    "np.allclose(add_ones_column(X_train), np.dot(Q, R))"
   ]
  },
  {
   "cell_type": "code",
   "execution_count": null,
   "id": "7ee9ee6d-f785-4727-9165-fcd43bc253f8",
   "metadata": {},
   "outputs": [],
   "source": []
  },
  {
   "cell_type": "code",
   "execution_count": 59,
   "id": "3c2ded06-c5fd-4b6d-9acc-435a8fd414b2",
   "metadata": {},
   "outputs": [
    {
     "name": "stdout",
     "output_type": "stream",
     "text": [
      "Starboard Propeller Torque\n",
      "HP Turbine exit pressure\n",
      "Fuel flow\n"
     ]
    }
   ],
   "source": [
    "for index, value in enumerate(independent_vectors):\n",
    "    if value == False:\n",
    "        print(list(X_train.columns)[index-1])"
   ]
  },
  {
   "cell_type": "code",
   "execution_count": null,
   "id": "f8bf0189-30c4-4c57-a5f9-4d46262857d1",
   "metadata": {},
   "outputs": [],
   "source": []
  }
 ],
 "metadata": {
  "kernelspec": {
   "display_name": "Python 3 (ipykernel)",
   "language": "python",
   "name": "python3"
  },
  "language_info": {
   "codemirror_mode": {
    "name": "ipython",
    "version": 3
   },
   "file_extension": ".py",
   "mimetype": "text/x-python",
   "name": "python",
   "nbconvert_exporter": "python",
   "pygments_lexer": "ipython3",
   "version": "3.9.12"
  }
 },
 "nbformat": 4,
 "nbformat_minor": 5
}
